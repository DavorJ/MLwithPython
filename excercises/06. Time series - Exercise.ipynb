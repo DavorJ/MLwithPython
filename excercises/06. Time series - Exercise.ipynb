{
 "cells": [
  {
   "cell_type": "markdown",
   "metadata": {},
   "source": [
    "# Timeseries"
   ]
  },
  {
   "cell_type": "code",
   "execution_count": 1,
   "metadata": {
    "collapsed": false
   },
   "outputs": [],
   "source": [
    "import pandas as pd\n",
    "import numpy as np\n",
    "from datetime import datetime\n",
    "import matplotlib.pyplot as plt\n",
    "%matplotlib inline"
   ]
  },
  {
   "cell_type": "markdown",
   "metadata": {},
   "source": [
    "We will use the AirPassengers dataset this time: https://raw.githubusercontent.com/vincentarelbundock/Rdatasets/master/csv/datasets/AirPassengers.csv \n",
    "\n",
    "Load it as a dataframe in _df_ variable and show first 5 rows. \n",
    "\n",
    "Ignore the first rowid column."
   ]
  },
  {
   "cell_type": "code",
   "execution_count": 2,
   "metadata": {
    "collapsed": false,
    "scrolled": true
   },
   "outputs": [
    {
     "data": {
      "text/html": [
       "<div>\n",
       "<style>\n",
       "    .dataframe thead tr:only-child th {\n",
       "        text-align: right;\n",
       "    }\n",
       "\n",
       "    .dataframe thead th {\n",
       "        text-align: left;\n",
       "    }\n",
       "\n",
       "    .dataframe tbody tr th {\n",
       "        vertical-align: top;\n",
       "    }\n",
       "</style>\n",
       "<table border=\"1\" class=\"dataframe\">\n",
       "  <thead>\n",
       "    <tr style=\"text-align: right;\">\n",
       "      <th></th>\n",
       "      <th>time</th>\n",
       "      <th>AirPassengers</th>\n",
       "    </tr>\n",
       "  </thead>\n",
       "  <tbody>\n",
       "    <tr>\n",
       "      <th>0</th>\n",
       "      <td>1949.000000</td>\n",
       "      <td>112</td>\n",
       "    </tr>\n",
       "    <tr>\n",
       "      <th>1</th>\n",
       "      <td>1949.083333</td>\n",
       "      <td>118</td>\n",
       "    </tr>\n",
       "    <tr>\n",
       "      <th>2</th>\n",
       "      <td>1949.166667</td>\n",
       "      <td>132</td>\n",
       "    </tr>\n",
       "    <tr>\n",
       "      <th>3</th>\n",
       "      <td>1949.250000</td>\n",
       "      <td>129</td>\n",
       "    </tr>\n",
       "    <tr>\n",
       "      <th>4</th>\n",
       "      <td>1949.333333</td>\n",
       "      <td>121</td>\n",
       "    </tr>\n",
       "  </tbody>\n",
       "</table>\n",
       "</div>"
      ],
      "text/plain": [
       "          time  AirPassengers\n",
       "0  1949.000000            112\n",
       "1  1949.083333            118\n",
       "2  1949.166667            132\n",
       "3  1949.250000            129\n",
       "4  1949.333333            121"
      ]
     },
     "execution_count": 2,
     "metadata": {},
     "output_type": "execute_result"
    }
   ],
   "source": [
    "df = \n",
    "df.head()"
   ]
  },
  {
   "cell_type": "markdown",
   "metadata": {},
   "source": [
    "## Creating a Timeseries object"
   ]
  },
  {
   "cell_type": "markdown",
   "metadata": {},
   "source": [
    "Show the column types of _df_."
   ]
  },
  {
   "cell_type": "code",
   "execution_count": 3,
   "metadata": {
    "collapsed": false
   },
   "outputs": [
    {
     "data": {
      "text/plain": [
       "time             float64\n",
       "AirPassengers      int64\n",
       "dtype: object"
      ]
     },
     "execution_count": 3,
     "metadata": {},
     "output_type": "execute_result"
    }
   ],
   "source": []
  },
  {
   "cell_type": "markdown",
   "metadata": {},
   "source": [
    "The _time_ field signifies the year and a 1/12th fraction (the month). We need to convert this to a datetime type. Write a function that converts the time-column into a [_datetime_](https://docs.python.org/2/library/datetime.html#datetime-objects) object."
   ]
  },
  {
   "cell_type": "code",
   "execution_count": 4,
   "metadata": {
    "collapsed": false
   },
   "outputs": [
    {
     "data": {
      "text/plain": [
       "datetime.datetime(1949, 3, 1, 0, 0)"
      ]
     },
     "execution_count": 4,
     "metadata": {},
     "output_type": "execute_result"
    }
   ],
   "source": [
    "def to_datetime(number):\n",
    "    return(datetime(...))\n",
    "\n",
    "to_datetime(1949.166667)"
   ]
  },
  {
   "cell_type": "markdown",
   "metadata": {},
   "source": [
    "Make a Pandas [_Series_](https://pandas.pydata.org/pandas-docs/stable/generated/pandas.Series.html#pandas-series) object named _ts_ with _AirPassangers_ number as data and _datetime_ as index."
   ]
  },
  {
   "cell_type": "code",
   "execution_count": 5,
   "metadata": {
    "collapsed": false
   },
   "outputs": [],
   "source": [
    "ts = pd.Series(...)"
   ]
  },
  {
   "cell_type": "code",
   "execution_count": 6,
   "metadata": {
    "collapsed": false,
    "scrolled": false
   },
   "outputs": [
    {
     "data": {
      "text/plain": [
       "time\n",
       "1949-01-01    112\n",
       "1949-02-01    118\n",
       "1949-03-01    132\n",
       "1949-04-01    129\n",
       "1949-05-01    121\n",
       "dtype: int64"
      ]
     },
     "execution_count": 6,
     "metadata": {},
     "output_type": "execute_result"
    }
   ],
   "source": [
    "ts.head()"
   ]
  },
  {
   "cell_type": "markdown",
   "metadata": {},
   "source": [
    "Lets see how slicing works. Select a range [1949-01-01, 1949-12-01]. There are many ways to do this. For some, the index needs to be sorted."
   ]
  },
  {
   "cell_type": "code",
   "execution_count": 7,
   "metadata": {
    "collapsed": false,
    "scrolled": true
   },
   "outputs": [
    {
     "data": {
      "text/plain": [
       "time\n",
       "1949-01-01    112\n",
       "1949-02-01    118\n",
       "1949-03-01    132\n",
       "1949-04-01    129\n",
       "1949-05-01    121\n",
       "1949-06-01    135\n",
       "1949-07-01    148\n",
       "1949-08-01    148\n",
       "1949-09-01    136\n",
       "1949-10-01    119\n",
       "1949-11-01    104\n",
       "1949-12-01    118\n",
       "dtype: int64"
      ]
     },
     "execution_count": 7,
     "metadata": {},
     "output_type": "execute_result"
    }
   ],
   "source": []
  },
  {
   "cell_type": "markdown",
   "metadata": {},
   "source": [
    "## Exploration"
   ]
  },
  {
   "cell_type": "markdown",
   "metadata": {},
   "source": [
    "Make a plot of the timeseries."
   ]
  },
  {
   "cell_type": "code",
   "execution_count": 8,
   "metadata": {
    "collapsed": false
   },
   "outputs": [
    {
     "data": {
      "image/png": "[encoded data removed]",
      "text/plain": [
       "<matplotlib.figure.Figure at 0x242fa304048>"
      ]
     },
     "metadata": {},
     "output_type": "display_data"
    }
   ],
   "source": [
    "plt.plot(...);\n",
    "plt.ylabel('AirPassengers');"
   ]
  },
  {
   "cell_type": "markdown",
   "metadata": {},
   "source": [
    "### Variance stabilization"
   ]
  },
  {
   "cell_type": "markdown",
   "metadata": {},
   "source": [
    "The plot makes it clear that the variance is not constant with time. Cosntant variance is a requirement for good forecasts with many models, certainly ARIMA which is based on Linear Regression. One way of dealing with this is taking the log of the original data. Modeling _tslog_ will bascially model _ts_ elasticity (i.e. percentual changes).\n",
    "\n",
    "Take the log, store it in _tslog_ variable and plot it."
   ]
  },
  {
   "cell_type": "code",
   "execution_count": 9,
   "metadata": {
    "collapsed": false
   },
   "outputs": [
    {
     "data": {
      "image/png": "[encoded data removed]",
      "text/plain": [
       "<matplotlib.figure.Figure at 0x242fa712080>"
      ]
     },
     "metadata": {},
     "output_type": "display_data"
    }
   ],
   "source": []
  },
  {
   "cell_type": "markdown",
   "metadata": {},
   "source": [
    "The variance seems stable now."
   ]
  },
  {
   "cell_type": "markdown",
   "metadata": {},
   "source": [
    "### Trend: deterministic or stochastic"
   ]
  },
  {
   "cell_type": "code",
   "execution_count": 10,
   "metadata": {
    "collapsed": false
   },
   "outputs": [
    {
     "name": "stderr",
     "output_type": "stream",
     "text": [
      "W:\\Tools\\conda\\program\\x64\\lib\\site-packages\\statsmodels\\compat\\pandas.py:56: FutureWarning: The pandas.core.datetools module is deprecated and will be removed in a future version. Please use the pandas.tseries module instead.\n",
      "  from pandas.core import datetools\n"
     ]
    }
   ],
   "source": [
    "from statsmodels.tsa.stattools import adfuller"
   ]
  },
  {
   "cell_type": "markdown",
   "metadata": {},
   "source": [
    "There is clearly a trend in the series. For forecasting, it is important to know whether this trend is deterministic or stochastic. A deterministic trend is of the form $Y_t = \\beta_0 + \\beta_1 t + \\mu_t$ whereas a stochastic trend is of the form $Y_t = Y_{t-1} + \\mu_t$ (i.e. a random walk). The latter can be written as $Y_t = Y_0 + \\sum_{i=0}^t \\mu_i$ and thus the trend $\\sum_{i=0}^t \\mu_i$ is called stochastic. Random walk has an \"infinite memory\" in the sense that random shocks are persistent in the sum. This makes forecasting difficult. If we write  $Y_t = \\rho Y_{t-1} + \\mu_t$ with $|\\rho| < 1$, then we know that the shock will eventually die out and the series is stationary. The [Augmented-Dickey Fuller](http://www.statsmodels.org/dev/generated/statsmodels.tsa.stattools.adfuller.html) (ADF) test is one of the Unit Root statistical tests that tests whether $\\rho = 1$. "
   ]
  },
  {
   "cell_type": "markdown",
   "metadata": {},
   "source": [
    "The null hypothesis of ADF test is that there is a unit root, with the alternative that there is no unit root. If the p-value is above a critical size, then we cannot reject that there is a unit root.\n",
    "\n",
    "Run the ADF test under the assumption that the $\\mu_t$ are uncorrelated (i.e. maxlag = 1). This is equivalent to the (non-augmented) DF test. Also, make sure to use linear regression (set regression='ct'): we want to check for a stochastic trend under the assumption of a deterministic trend."
   ]
  },
  {
   "cell_type": "code",
   "execution_count": 11,
   "metadata": {
    "collapsed": false
   },
   "outputs": [
    {
     "data": {
      "text/plain": [
       "(-7.6522870043113969,\n",
       " 4.5434210719523852e-10,\n",
       " {'1%': -4.0239809181472488,\n",
       "  '10%': -3.1454609207316904,\n",
       "  '5%': -3.4418722820477714},\n",
       " <statsmodels.tsa.stattools.ResultsStore at 0x242fc4520b8>)"
      ]
     },
     "execution_count": 11,
     "metadata": {},
     "output_type": "execute_result"
    }
   ],
   "source": [
    "adf_test = \n",
    "adf_test"
   ]
  },
  {
   "cell_type": "markdown",
   "metadata": {},
   "source": [
    "We get $p \\ll 0.01$ (second variable) which means we can reject $H_0: \\rho = 1$. In other words, there is significant evidence that $\\rho < 1$ (i.e. that the trend is deterministic). In other words the forecasts from classical models will not be biased.\n",
    "\n",
    "Note that ADF, when using lags, is susceptible to seasonality effects."
   ]
  },
  {
   "cell_type": "markdown",
   "metadata": {},
   "source": [
    "### Seasonality"
   ]
  },
  {
   "cell_type": "markdown",
   "metadata": {},
   "source": [
    "The seasonality can be obtained from autocorrelation plots. Since the trend is deterministic, the residuals of $Y_t = \\beta_0 + \\beta_1 t + \\mu_t$ are stationary. In case it was a unit root, then first-order differentiating the timeseries would make the series stationary."
   ]
  },
  {
   "cell_type": "markdown",
   "metadata": {},
   "source": [
    "Extract the residuals from $Y_t = \\beta_0 + \\beta_1 t + \\mu_t$ and place them in _tslogdet_. This procedure is called detrending. A quick way is to use [scipy.signal.detrend](https://docs.scipy.org/doc/scipy-0.14.0/reference/generated/scipy.signal.detrend.html). You can also use sklearn.linear_model. The results are the same."
   ]
  },
  {
   "cell_type": "code",
   "execution_count": 12,
   "metadata": {
    "collapsed": true
   },
   "outputs": [],
   "source": [
    "from scipy.signal import detrend\n",
    "tslogdet = "
   ]
  },
  {
   "cell_type": "markdown",
   "metadata": {},
   "source": [
    "Plot _tslogdet_."
   ]
  },
  {
   "cell_type": "code",
   "execution_count": 13,
   "metadata": {
    "collapsed": false
   },
   "outputs": [
    {
     "data": {
      "image/png": "[encoded data removed]",
      "text/plain": [
       "<matplotlib.figure.Figure at 0x242fa748198>"
      ]
     },
     "metadata": {},
     "output_type": "display_data"
    }
   ],
   "source": []
  },
  {
   "cell_type": "markdown",
   "metadata": {},
   "source": [
    "Make an autocorrelation plot of _tslog_ and _tslogdet_."
   ]
  },
  {
   "cell_type": "code",
   "execution_count": 14,
   "metadata": {
    "collapsed": true
   },
   "outputs": [],
   "source": [
    "from pandas.plotting import autocorrelation_plot"
   ]
  },
  {
   "cell_type": "code",
   "execution_count": 15,
   "metadata": {
    "collapsed": false
   },
   "outputs": [
    {
     "data": {
      "image/png": "[encoded data removed]",
      "text/plain": [
       "<matplotlib.figure.Figure at 0x242fd181630>"
      ]
     },
     "metadata": {},
     "output_type": "display_data"
    },
    {
     "data": {
      "image/png": "[encoded data removed]",
      "text/plain": [
       "<matplotlib.figure.Figure at 0x242fd223f60>"
      ]
     },
     "metadata": {},
     "output_type": "display_data"
    }
   ],
   "source": [
    "...\n",
    "plt.show()\n",
    "..."
   ]
  },
  {
   "cell_type": "markdown",
   "metadata": {},
   "source": [
    "The first autocorrelation plot clearly shows very high correlation with previous values, which suggests non-stationarity, and which is removed with detrending in our case (or differentiation in unit root case). The latter plot show correlation spikes due to seasonality. One can zoom-in and see that the spikes are at lag 12: season is yearly in this case."
   ]
  },
  {
   "cell_type": "markdown",
   "metadata": {},
   "source": [
    "# ARIMA(X)"
   ]
  },
  {
   "cell_type": "code",
   "execution_count": 16,
   "metadata": {
    "collapsed": true
   },
   "outputs": [],
   "source": [
    "from statsmodels.tsa.statespace.sarimax import SARIMAX\n",
    "from scipy.optimize import brute"
   ]
  },
  {
   "cell_type": "markdown",
   "metadata": {},
   "source": [
    "In previous analysis we learned a few things about the nature of the series. We can now use that information to construct an ARIMAX model for forecasting. Use the [Nedler-Mead](https://docs.scipy.org/doc/scipy/reference/optimize.minimize-neldermead.html) for minimization. The default has convergence issues."
   ]
  },
  {
   "cell_type": "code",
   "execution_count": 17,
   "metadata": {
    "collapsed": false
   },
   "outputs": [],
   "source": [
    "def arima_select(order):\n",
    "    if all(order == 0): return(float(\"inf\"))\n",
    "    try:\n",
    "        m_ar = SARIMAX(tslog, trend='ct', order=order.tolist()[:3], \n",
    "                       seasonal_order=order.tolist()[3:], \n",
    "                       enforce_stationarity=False, \n",
    "                       enforce_invertibility=False\n",
    "                      ).fit(maxiter=5000, method='nm')\n",
    "        bic = m_ar.bic\n",
    "    except:\n",
    "        return(float(\"inf\"))\n",
    "    print((order, bic))\n",
    "    return(float(\"inf\") if np.isnan(bic) else bic)"
   ]
  },
  {
   "cell_type": "markdown",
   "metadata": {},
   "source": [
    "SARIMAX needs a few parameters. The seasonality (_s_) we estimated to be 12 from previous graphs. Then there is the choice of either adding a trend line and/or differentiate the series (_d_ and _D_). Snice we already checked the trend to be  only deterministic, we set _d_ = _D_ = 0 and use trend = 'ct' as the modeling option. Then we still have to estimate the Autoregressive (_p_ and _P_) and Moving average (_q_ and _Q_) components. We set their range to [0,2] and select the best model based on the BIC scores."
   ]
  },
  {
   "cell_type": "code",
   "execution_count": 18,
   "metadata": {
    "collapsed": false
   },
   "outputs": [
    {
     "name": "stdout",
     "output_type": "stream",
     "text": [
      "Optimization terminated successfully.\n",
      "         Current function value: -0.802184\n",
      "         Iterations: 247\n",
      "         Function evaluations: 421\n",
      "(array([ 0,  0,  0,  0,  0,  1, 12]), -211.14967833604013)\n",
      "Optimization terminated successfully.\n",
      "         Current function value: -0.837790\n",
      "         Iterations: 837\n",
      "         Function evaluations: 1369\n",
      "(array([ 0,  0,  0,  0,  0,  2, 12]), -216.43457328265259)\n",
      "Optimization terminated successfully.\n",
      "         Current function value: -1.300289\n",
      "         Iterations: 239\n",
      "         Function evaluations: 411\n",
      "(array([ 0,  0,  0,  1,  0,  0, 12]), -354.6038861345225)\n",
      "Optimization terminated successfully.\n",
      "         Current function value: -1.433900\n",
      "         Iterations: 349\n",
      "         Function evaluations: 582\n",
      "(array([ 0,  0,  0,  1,  0,  1, 12]), -388.11409120247072)\n",
      "Optimization terminated successfully.\n",
      "         Current function value: -1.314378\n",
      "         Iterations: 989\n",
      "         Function evaluations: 1527\n",
      "(array([ 0,  0,  0,  1,  0,  2, 12]), -348.72206652974404)\n",
      "Optimization terminated successfully.\n",
      "         Current function value: -1.281560\n",
      "         Iterations: 497\n",
      "         Function evaluations: 801\n",
      "(array([ 0,  0,  0,  2,  0,  0, 12]), -344.24028449393552)\n",
      "Optimization terminated successfully.\n",
      "         Current function value: -1.312085\n",
      "         Iterations: 370\n",
      "         Function evaluations: 608\n",
      "(array([ 0,  0,  0,  2,  0,  1, 12]), -348.06157874996586)\n",
      "Optimization terminated successfully.\n",
      "         Current function value: -1.348550\n",
      "         Iterations: 976\n",
      "         Function evaluations: 1486\n",
      "(array([ 0,  0,  0,  2,  0,  2, 12]), -353.59365939507092)\n",
      "Optimization terminated successfully.\n",
      "         Current function value: -0.899791\n",
      "         Iterations: 92\n",
      "         Function evaluations: 156\n",
      "(array([ 0,  0,  1,  0,  0,  0, 12]), -239.26066020066406)\n",
      "Optimization terminated successfully.\n",
      "         Current function value: -1.062097\n",
      "         Iterations: 573\n",
      "         Function evaluations: 922\n",
      "(array([ 0,  0,  1,  0,  0,  1, 12]), -281.03495294703976)\n",
      "Optimization terminated successfully.\n",
      "         Current function value: -1.024076\n",
      "         Iterations: 489\n",
      "         Function evaluations: 789\n",
      "(array([ 0,  0,  1,  0,  0,  2, 12]), -265.11491093277442)\n",
      "Optimization terminated successfully.\n",
      "         Current function value: -1.467419\n",
      "         Iterations: 374\n",
      "         Function evaluations: 606\n",
      "(array([ 0,  0,  1,  1,  0,  0, 12]), -397.76759018444255)\n",
      "Optimization terminated successfully.\n",
      "         Current function value: -1.589049\n",
      "         Iterations: 827\n",
      "         Function evaluations: 1298\n",
      "(array([ 0,  0,  1,  1,  0,  1, 12]), -427.8271114606174)\n",
      "Optimization terminated successfully.\n",
      "         Current function value: -1.319821\n",
      "         Iterations: 950\n",
      "         Function evaluations: 1443\n",
      "(array([ 0,  0,  1,  1,  0,  2, 12]), -345.31980686892581)\n",
      "Optimization terminated successfully.\n",
      "         Current function value: -1.421252\n",
      "         Iterations: 920\n",
      "         Function evaluations: 1407\n",
      "(array([ 0,  0,  1,  2,  0,  0, 12]), -379.50165745191748)\n",
      "Optimization terminated successfully.\n",
      "         Current function value: -1.400480\n",
      "         Iterations: 721\n",
      "         Function evaluations: 1115\n",
      "(array([ 0,  0,  1,  2,  0,  1, 12]), -368.54959731034796)\n",
      "Optimization terminated successfully.\n",
      "         Current function value: -1.469084\n",
      "         Iterations: 948\n",
      "         Function evaluations: 1418\n",
      "(array([ 0,  0,  1,  2,  0,  2, 12]), -383.337610847544)\n",
      "Optimization terminated successfully.\n",
      "         Current function value: -0.924688\n",
      "         Iterations: 165\n",
      "         Function evaluations: 272\n",
      "(array([ 0,  0,  2,  0,  0,  0, 12]), -241.46113915230535)\n",
      "Optimization terminated successfully.\n",
      "         Current function value: -1.112308\n",
      "         Iterations: 969\n",
      "         Function evaluations: 1487\n",
      "(array([ 0,  0,  2,  0,  0,  1, 12]), -290.52576702332141)\n",
      "Optimization terminated successfully.\n",
      "         Current function value: -1.208541\n",
      "         Iterations: 1021\n",
      "         Function evaluations: 1549\n",
      "(array([ 0,  0,  2,  0,  0,  2, 12]), -313.27113429003475)\n",
      "Optimization terminated successfully.\n",
      "         Current function value: -1.585474\n",
      "         Iterations: 766\n",
      "         Function evaluations: 1213\n",
      "(array([ 0,  0,  2,  1,  0,  0, 12]), -426.79750191627835)\n",
      "Optimization terminated successfully.\n",
      "         Current function value: -1.634629\n",
      "         Iterations: 833\n",
      "         Function evaluations: 1269\n",
      "(array([ 0,  0,  2,  1,  0,  1, 12]), -435.98432603167305)\n",
      "Optimization terminated successfully.\n",
      "         Current function value: -1.416636\n",
      "         Iterations: 676\n",
      "         Function evaluations: 1057\n",
      "(array([ 0,  0,  2,  1,  0,  2, 12]), -368.23279780723504)\n",
      "Optimization terminated successfully.\n",
      "         Current function value: -1.530109\n",
      "         Iterations: 1293\n",
      "         Function evaluations: 1946\n",
      "(array([ 0,  0,  2,  2,  0,  0, 12]), -405.88261192920993)\n",
      "Optimization terminated successfully.\n",
      "         Current function value: -1.529974\n",
      "         Iterations: 867\n",
      "         Function evaluations: 1307\n",
      "(array([ 0,  0,  2,  2,  0,  1, 12]), -400.87408139457102)\n",
      "Optimization terminated successfully.\n",
      "         Current function value: -1.521555\n",
      "         Iterations: 1560\n",
      "         Function evaluations: 2265\n",
      "(array([ 0,  0,  2,  2,  0,  2, 12]), -393.47952712011329)\n",
      "Optimization terminated successfully.\n",
      "         Current function value: -0.895630\n",
      "         Iterations: 68\n",
      "         Function evaluations: 119\n",
      "(array([ 1,  0,  0,  0,  0,  0, 12]), -238.06215696604204)\n",
      "Optimization terminated successfully.\n",
      "         Current function value: -1.124868\n",
      "         Iterations: 432\n",
      "         Function evaluations: 704\n",
      "(array([ 1,  0,  0,  0,  0,  1, 12]), -299.11287537757619)\n",
      "Optimization terminated successfully.\n",
      "         Current function value: -1.137250\n",
      "         Iterations: 1570\n",
      "         Function evaluations: 2413\n",
      "(array([ 1,  0,  0,  0,  0,  2, 12]), -297.709119180659)\n",
      "Optimization terminated successfully.\n",
      "         Current function value: -1.614989\n",
      "         Iterations: 881\n",
      "         Function evaluations: 1399\n",
      "(array([ 1,  0,  0,  1,  0,  0, 12]), -440.26766644210755)\n",
      "Optimization terminated successfully.\n",
      "         Current function value: -1.701415\n",
      "         Iterations: 503\n",
      "         Function evaluations: 787\n",
      "(array([ 1,  0,  0,  1,  0,  1, 12]), -460.18867409799793)\n",
      "Optimization terminated successfully.\n",
      "         Current function value: -1.413603\n",
      "         Iterations: 942\n",
      "         Function evaluations: 1423\n",
      "(array([ 1,  0,  0,  1,  0,  2, 12]), -372.32890130678942)\n",
      "Optimization terminated successfully.\n",
      "         Current function value: -1.532754\n",
      "         Iterations: 837\n",
      "         Function evaluations: 1313\n",
      "(array([ 1,  0,  0,  2,  0,  0, 12]), -411.61439553041777)\n",
      "Optimization terminated successfully.\n",
      "         Current function value: -1.546022\n",
      "         Iterations: 997\n",
      "         Function evaluations: 1492\n",
      "(array([ 1,  0,  0,  2,  0,  1, 12]), -410.46575497487908)\n",
      "Optimization terminated successfully.\n",
      "         Current function value: -1.567591\n",
      "         Iterations: 1346\n",
      "         Function evaluations: 1987\n",
      "(array([ 1,  0,  0,  2,  0,  2, 12]), -411.70772846077222)\n",
      "Optimization terminated successfully.\n",
      "         Current function value: -0.959840\n",
      "         Iterations: 170\n",
      "         Function evaluations: 285\n",
      "(array([ 1,  0,  1,  0,  0,  0, 12]), -251.58471295896084)\n",
      "Optimization terminated successfully.\n",
      "         Current function value: -1.142496\n",
      "         Iterations: 413\n",
      "         Function evaluations: 654\n",
      "(array([ 1,  0,  1,  0,  0,  1, 12]), -299.2200038049491)\n",
      "Optimization terminated successfully.\n",
      "         Current function value: -1.143894\n",
      "         Iterations: 1941\n",
      "         Function evaluations: 2900\n",
      "(array([ 1,  0,  1,  0,  0,  2, 12]), -294.65275348678904)\n",
      "Optimization terminated successfully.\n",
      "         Current function value: -1.313129\n",
      "         Iterations: 390\n",
      "         Function evaluations: 639\n",
      "(array([ 1,  0,  1,  1,  0,  0, 12]), -348.36225792498453)\n",
      "Optimization terminated successfully.\n",
      "         Current function value: -1.695398\n",
      "         Iterations: 1237\n",
      "         Function evaluations: 1900\n",
      "(array([ 1,  0,  1,  1,  0,  1, 12]), -453.48579787183553)\n",
      "Optimization terminated successfully.\n",
      "         Current function value: -1.358938\n",
      "         Iterations: 1375\n",
      "         Function evaluations: 2069\n",
      "(array([ 1,  0,  1,  1,  0,  2, 12]), -351.61557070861136)\n",
      "Optimization terminated successfully.\n",
      "         Current function value: -1.558210\n",
      "         Iterations: 1643\n",
      "         Function evaluations: 2450\n",
      "(array([ 1,  0,  1,  2,  0,  0, 12]), -413.97585892692393)\n",
      "Optimization terminated successfully.\n",
      "         Current function value: -1.559419\n",
      "         Iterations: 985\n",
      "         Function evaluations: 1471\n",
      "(array([ 1,  0,  1,  2,  0,  1, 12]), -409.35425966978988)\n",
      "Optimization terminated successfully.\n",
      "         Current function value: -1.558049\n",
      "         Iterations: 2145\n",
      "         Function evaluations: 3064\n",
      "(array([ 1,  0,  1,  2,  0,  2, 12]), -403.98987909688884)\n",
      "Optimization terminated successfully.\n",
      "         Current function value: -0.950922\n",
      "         Iterations: 446\n",
      "         Function evaluations: 703\n",
      "(array([ 1,  0,  2,  0,  0,  0, 12]), -244.04658146645477)\n",
      "Optimization terminated successfully.\n",
      "         Current function value: -1.131745\n",
      "         Iterations: 574\n",
      "         Function evaluations: 887\n",
      "(array([ 1,  0,  2,  0,  0,  1, 12]), -291.15373443731426)\n",
      "Optimization terminated successfully.\n",
      "         Current function value: -1.097391\n",
      "         Iterations: 1526\n",
      "         Function evaluations: 2273\n",
      "(array([ 1,  0,  2,  0,  0,  2, 12]), -276.29021150192705)\n",
      "Optimization terminated successfully.\n",
      "         Current function value: -1.624521\n",
      "         Iterations: 886\n",
      "         Function evaluations: 1336\n",
      "(array([ 1,  0,  2,  1,  0,  0, 12]), -433.07347213303143)\n",
      "Optimization terminated successfully.\n",
      "         Current function value: -1.583678\n",
      "         Iterations: 1084\n",
      "         Function evaluations: 1618\n",
      "(array([ 1,  0,  2,  1,  0,  1, 12]), -416.34063756698947)\n",
      "Optimization terminated successfully.\n",
      "         Current function value: -1.395668\n",
      "         Iterations: 1093\n",
      "         Function evaluations: 1616\n",
      "(array([ 1,  0,  2,  1,  0,  2, 12]), -357.22412415982393)\n",
      "Optimization terminated successfully.\n",
      "         Current function value: -1.497566\n",
      "         Iterations: 1001\n",
      "         Function evaluations: 1500\n",
      "(array([ 1,  0,  2,  2,  0,  0, 12]), -391.540516718395)\n",
      "Optimization terminated successfully.\n",
      "         Current function value: -1.520352\n",
      "         Iterations: 2699\n",
      "         Function evaluations: 3865\n",
      "(array([ 1,  0,  2,  2,  0,  1, 12]), -393.13312533265764)\n",
      "Optimization terminated successfully.\n",
      "         Current function value: -1.573937\n",
      "         Iterations: 2472\n",
      "         Function evaluations: 3474\n",
      "(array([ 1,  0,  2,  2,  0,  2, 12]), -403.59581871772809)\n",
      "Optimization terminated successfully.\n",
      "         Current function value: -0.979384\n",
      "         Iterations: 136\n",
      "         Function evaluations: 235\n",
      "(array([ 2,  0,  0,  0,  0,  0, 12]), -257.21346607683887)\n",
      "Optimization terminated successfully.\n",
      "         Current function value: -1.168618\n",
      "         Iterations: 820\n",
      "         Function evaluations: 1266\n",
      "(array([ 2,  0,  0,  0,  0,  1, 12]), -306.74321595204935)\n",
      "Optimization terminated successfully.\n",
      "         Current function value: -1.165681\n",
      "         Iterations: 1918\n",
      "         Function evaluations: 2886\n",
      "(array([ 2,  0,  0,  0,  0,  2, 12]), -300.92752527593603)\n",
      "Optimization terminated successfully.\n",
      "         Current function value: -1.618255\n",
      "         Iterations: 1698\n",
      "         Function evaluations: 2623\n",
      "(array([ 2,  0,  0,  1,  0,  0, 12]), -436.23863567515684)\n",
      "Optimization terminated successfully.\n",
      "         Current function value: -1.463052\n",
      "         Iterations: 1419\n",
      "         Function evaluations: 2132\n",
      "(array([ 2,  0,  0,  1,  0,  1, 12]), -386.57033383845265)\n",
      "Optimization terminated successfully.\n",
      "         Current function value: -1.445827\n",
      "         Iterations: 2128\n",
      "         Function evaluations: 3123\n",
      "(array([ 2,  0,  0,  1,  0,  2, 12]), -376.63960471268632)\n",
      "Optimization terminated successfully.\n",
      "         Current function value: -1.420354\n",
      "         Iterations: 1378\n",
      "         Function evaluations: 2087\n",
      "(array([ 2,  0,  0,  2,  0,  0, 12]), -374.27311851297355)\n",
      "Optimization terminated successfully.\n",
      "         Current function value: -1.284278\n",
      "         Iterations: 926\n",
      "         Function evaluations: 1384\n",
      "(array([ 2,  0,  0,  2,  0,  1, 12]), -330.11361570496479)\n",
      "Optimization terminated successfully.\n",
      "         Current function value: -1.521713\n",
      "         Iterations: 1554\n",
      "         Function evaluations: 2252\n",
      "(array([ 2,  0,  0,  2,  0,  2, 12]), -393.52508576132414)\n",
      "Optimization terminated successfully.\n",
      "         Current function value: -1.001479\n",
      "         Iterations: 404\n",
      "         Function evaluations: 635\n",
      "(array([ 2,  0,  1,  0,  0,  0, 12]), -258.60705019528217)\n",
      "Optimization terminated successfully.\n",
      "         Current function value: -1.167462\n",
      "         Iterations: 1158\n",
      "         Function evaluations: 1735\n",
      "(array([ 2,  0,  1,  0,  0,  1, 12]), -301.44027880194085)\n",
      "Optimization terminated successfully.\n",
      "         Current function value: -1.080182\n",
      "         Iterations: 1064\n",
      "         Function evaluations: 1633\n",
      "(array([ 2,  0,  1,  0,  0,  2, 12]), -271.33401710100401)\n",
      "Optimization terminated successfully.\n",
      "         Current function value: -0.837506\n",
      "         Iterations: 1443\n",
      "         Function evaluations: 2199\n",
      "(array([ 2,  0,  1,  1,  0,  0, 12]), -206.41315255772366)\n",
      "Optimization terminated successfully.\n",
      "         Current function value: -1.540096\n",
      "         Iterations: 1808\n",
      "         Function evaluations: 2691\n",
      "(array([ 2,  0,  1,  1,  0,  1, 12]), -403.78907353429611)\n",
      "Optimization terminated successfully.\n",
      "         Current function value: -0.864292\n",
      "         Iterations: 2108\n",
      "         Function evaluations: 3048\n",
      "(array([ 2,  0,  1,  1,  0,  2, 12]), -204.18776132709186)\n",
      "Optimization terminated successfully.\n",
      "         Current function value: -1.302279\n",
      "         Iterations: 2993\n",
      "         Function evaluations: 4356\n",
      "(array([ 2,  0,  1,  2,  0,  0, 12]), -335.29775794194865)\n",
      "Optimization terminated successfully.\n",
      "         Current function value: -1.168602\n",
      "         Iterations: 3224\n",
      "         Function evaluations: 4636\n",
      "(array([ 2,  0,  1,  2,  0,  1, 12]), -291.82914251318192)\n",
      "Optimization terminated successfully.\n",
      "         Current function value: -0.795467\n",
      "         Iterations: 2903\n",
      "         Function evaluations: 4120\n",
      "(array([ 2,  0,  1,  2,  0,  2, 12]), -179.39639563780969)\n",
      "Optimization terminated successfully.\n",
      "         Current function value: -0.993528\n",
      "         Iterations: 774\n",
      "         Function evaluations: 1162\n",
      "(array([ 2,  0,  2,  0,  0,  0, 12]), -251.34729433255237)\n",
      "Optimization terminated successfully.\n",
      "         Current function value: -1.141383\n",
      "         Iterations: 1834\n",
      "         Function evaluations: 2711\n",
      "(array([ 2,  0,  2,  0,  0,  1, 12]), -288.95973934081286)\n",
      "Optimization terminated successfully.\n",
      "         Current function value: -1.113126\n",
      "         Iterations: 1630\n",
      "         Function evaluations: 2375\n",
      "(array([ 2,  0,  2,  0,  0,  2, 12]), -275.85189486905)\n",
      "Optimization terminated successfully.\n",
      "         Current function value: -1.585759\n",
      "         Iterations: 1111\n",
      "         Function evaluations: 1663\n",
      "(array([ 2,  0,  2,  1,  0,  0, 12]), -416.94014239848269)\n",
      "Optimization terminated successfully.\n",
      "         Current function value: -1.660279\n",
      "         Iterations: 2340\n",
      "         Function evaluations: 3373\n",
      "(array([ 2,  0,  2,  1,  0,  1, 12]), -433.43195435080764)\n",
      "Optimization terminated successfully.\n",
      "         Current function value: -1.221807\n",
      "         Iterations: 2056\n",
      "         Function evaluations: 2970\n",
      "(array([ 2,  0,  2,  1,  0,  2, 12]), -302.18228597630753)\n",
      "Optimization terminated successfully.\n",
      "         Current function value: -1.516918\n",
      "         Iterations: 2155\n",
      "         Function evaluations: 3150\n",
      "(array([ 2,  0,  2,  2,  0,  0, 12]), -392.1440417689505)\n",
      "Optimization terminated successfully.\n",
      "         Current function value: -1.480406\n",
      "         Iterations: 1434\n",
      "         Function evaluations: 2022\n",
      "(array([ 2,  0,  2,  2,  0,  1, 12]), -376.65876168098976)\n",
      "Optimization terminated successfully.\n",
      "         Current function value: -1.419310\n",
      "         Iterations: 2182\n",
      "         Function evaluations: 3048\n",
      "(array([ 2,  0,  2,  2,  0,  2, 12]), -354.09344877772071)\n"
     ]
    },
    {
     "data": {
      "text/plain": [
       "array([  1.,   0.,   0.,   1.,   0.,   1.,  12.])"
      ]
     },
     "execution_count": 18,
     "metadata": {},
     "output_type": "execute_result"
    }
   ],
   "source": [
    "grid = (slice(0, 3), slice(0, 1), slice(0, 3), # (p,d,q)\n",
    "        slice(0, 3), slice(0, 1), slice(0, 3), slice(12,13))  # (P,D,Q,s)\n",
    "brute(arima_select, grid, finish=None)"
   ]
  },
  {
   "cell_type": "markdown",
   "metadata": {},
   "source": [
    "Fit the best model and display its summary."
   ]
  },
  {
   "cell_type": "code",
   "execution_count": 19,
   "metadata": {
    "collapsed": false
   },
   "outputs": [
    {
     "name": "stdout",
     "output_type": "stream",
     "text": [
      "Optimization terminated successfully.\n",
      "         Current function value: -1.701415\n",
      "         Iterations: 503\n",
      "         Function evaluations: 787\n",
      "                                 Statespace Model Results                                 \n",
      "==========================================================================================\n",
      "Dep. Variable:                                  y   No. Observations:                  144\n",
      "Model:             SARIMAX(1, 0, 0)x(1, 0, 1, 12)   Log Likelihood                 245.004\n",
      "Date:                            Fri, 05 Jan 2018   AIC                           -478.008\n",
      "Time:                                    16:03:12   BIC                           -460.189\n",
      "Sample:                                01-01-1949   HQIC                          -470.767\n",
      "                                     - 12-01-1960                                         \n",
      "Covariance Type:                              opg                                         \n",
      "==============================================================================\n",
      "                 coef    std err          z      P>|z|      [0.025      0.975]\n",
      "------------------------------------------------------------------------------\n",
      "intercept      0.0875      0.044      2.004      0.045       0.002       0.173\n",
      "drift         -0.0001      0.000     -1.061      0.289      -0.000    9.89e-05\n",
      "ar.L1          0.6798      0.067     10.171      0.000       0.549       0.811\n",
      "ar.S.L12       0.9775      0.026     36.990      0.000       0.926       1.029\n",
      "ma.S.L12      -0.3862      0.120     -3.214      0.001      -0.622      -0.151\n",
      "sigma2         0.0014      0.000      9.909      0.000       0.001       0.002\n",
      "===================================================================================\n",
      "Ljung-Box (Q):                       52.50   Jarque-Bera (JB):                 9.38\n",
      "Prob(Q):                              0.09   Prob(JB):                         0.01\n",
      "Heteroskedasticity (H):               0.56   Skew:                             0.04\n",
      "Prob(H) (two-sided):                  0.06   Kurtosis:                         4.31\n",
      "===================================================================================\n",
      "\n",
      "Warnings:\n",
      "[1] Covariance matrix calculated using the outer product of gradients (complex-step).\n"
     ]
    }
   ],
   "source": [
    "m_ar = \n",
    "print(m_ar.summary())"
   ]
  },
  {
   "cell_type": "markdown",
   "metadata": {},
   "source": [
    "Plot the diagnostics. If the residuals are normaly distributed, then it means we found a good fit. The QQ-plot is a good indicator for this. Also, the seasonality should not be apparent in the residuals."
   ]
  },
  {
   "cell_type": "code",
   "execution_count": 20,
   "metadata": {
    "collapsed": false,
    "scrolled": false
   },
   "outputs": [
    {
     "data": {
      "image/png": "[encoded data removed]",
      "text/plain": [
       "<matplotlib.figure.Figure at 0x242fc4cd630>"
      ]
     },
     "metadata": {},
     "output_type": "display_data"
    }
   ],
   "source": []
  },
  {
   "cell_type": "markdown",
   "metadata": {},
   "source": [
    "Get the predictions and confidence intervals. Start them from 1951-01-01 and forcast for some 4 years (1965-01-01)."
   ]
  },
  {
   "cell_type": "code",
   "execution_count": 21,
   "metadata": {
    "collapsed": false
   },
   "outputs": [],
   "source": [
    "pred = "
   ]
  },
  {
   "cell_type": "markdown",
   "metadata": {},
   "source": [
    "Plot the original timeseries, predictions and confidence intervals."
   ]
  },
  {
   "cell_type": "code",
   "execution_count": 22,
   "metadata": {
    "collapsed": false,
    "scrolled": true
   },
   "outputs": [
    {
     "data": {
      "image/png": "[encoded data removed]",
      "text/plain": [
       "<matplotlib.figure.Figure at 0x242805f92e8>"
      ]
     },
     "metadata": {},
     "output_type": "display_data"
    }
   ],
   "source": [
    "ax = tslog.plot(label = 'Observed')\n",
    "pred.predicted_mean.plot(ax = ax, label='Forecast')\n",
    "ax.fill_between(pred.conf_int().index,\n",
    "                pred.conf_int()['lower y'],\n",
    "                pred.conf_int()['upper y'], color='k', alpha=.2)\n",
    "plt.legend(loc = 'upper left');\n",
    "plt.ylabel('log(AirPassengers)');"
   ]
  },
  {
   "cell_type": "markdown",
   "metadata": {
    "collapsed": true
   },
   "source": [
    "Now obviously you could do the seasonality/trend analysis the brute-force way, but that would take lots of computational time. Visual inspection of variance, seasonality and trend is mandatory for a good ARIMA model."
   ]
  },
  {
   "cell_type": "markdown",
   "metadata": {},
   "source": [
    "Too easy? Go [here](http://www.statsmodels.org/dev/examples/notebooks/generated/statespace_sarimax_stata.html).\n",
    "For a background on the requirement of stationarity, impact of correlation, structural breaks and much more, a great book to start is Gujarati, D. e.a., _Basic Econometrics_, 2009. It also has chapters on multi-timeseries modeling and forecasting."
   ]
  },
  {
   "cell_type": "markdown",
   "metadata": {},
   "source": [
    "# Moving average"
   ]
  },
  {
   "cell_type": "markdown",
   "metadata": {},
   "source": [
    "Moving average is a general term for a few \"low-pass filter\" models. More information can be found [here](https://en.wikipedia.org/wiki/Moving_average). Python offers a few smoothing functions in the form of [rolling window functions](https://pandas.pydata.org/pandas-docs/stable/generated/pandas.DataFrame.rolling.html#pandas.DataFrame.rolling), but these can not be used for forecasting."
   ]
  },
  {
   "cell_type": "markdown",
   "metadata": {},
   "source": [
    "## Simple moving average"
   ]
  },
  {
   "cell_type": "markdown",
   "metadata": {
    "collapsed": true
   },
   "source": [
    "## Exponential smoothing"
   ]
  },
  {
   "cell_type": "code",
   "execution_count": null,
   "metadata": {
    "collapsed": true
   },
   "outputs": [],
   "source": []
  }
 ],
 "metadata": {
  "kernelspec": {
   "display_name": "Python 3",
   "language": "python",
   "name": "python3"
  },
  "language_info": {
   "codemirror_mode": {
    "name": "ipython",
    "version": 3
   },
   "file_extension": ".py",
   "mimetype": "text/x-python",
   "name": "python",
   "nbconvert_exporter": "python",
   "pygments_lexer": "ipython3",
   "version": "3.5.2"
  }
 },
 "nbformat": 4,
 "nbformat_minor": 0
}
