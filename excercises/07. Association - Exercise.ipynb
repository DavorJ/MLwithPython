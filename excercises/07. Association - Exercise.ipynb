{
 "cells": [
  {
   "cell_type": "markdown",
   "metadata": {},
   "source": [
    "# Mining association rules"
   ]
  },
  {
   "cell_type": "code",
   "execution_count": 1,
   "metadata": {
    "collapsed": true
   },
   "outputs": [],
   "source": [
    "import pandas as pd\n",
    "import numpy as np\n",
    "%matplotlib inline"
   ]
  },
  {
   "cell_type": "markdown",
   "metadata": {},
   "source": [
    "Here we explore the idea of mining association rules from transaction data. Let $I = \\{i_1, \\dots, i_n\\}$ be a set of $n$ items. Let $D = \\{t_1, \\dots, t_m\\}$ be a set of transactions. Each transaction in $D$ has an unique transaction ID and contains a subset of the items in $I$. A rule is defined as $X \\implies Y$ where $X, Y \\subseteq I$ and non-empty. So we are looking for rules such as $\\{milk, bread\\} \\implies \\{butter\\}$ meaning that if milk and bread is bought, customers also buy butter.\n",
    "\n",
    "The _confidence_ of a rule is defined as $\\frac{\\text{supp}(X \\cup Y)}{\\text{supp}(X)}$ where $\\text{supp}(X)$ is the _support_ defind as the proportion of transactions in the data set which contain the itemset $X$. Confidence can be interpretted as the estimate of probability $P(X\\;|\\;Y)$."
   ]
  },
  {
   "cell_type": "markdown",
   "metadata": {},
   "source": [
    "We use the Groceries dataset this time: https://raw.githubusercontent.com/stedy/Machine-Learning-with-R-datasets/master/groceries.csv"
   ]
  },
  {
   "cell_type": "markdown",
   "metadata": {},
   "source": [
    "Load it as a dataframe in _df_ variable and show first 5 rows."
   ]
  },
  {
   "cell_type": "code",
   "execution_count": 2,
   "metadata": {
    "collapsed": false
   },
   "outputs": [
    {
     "data": {
      "text/html": [
       "<div>\n",
       "<style>\n",
       "    .dataframe thead tr:only-child th {\n",
       "        text-align: right;\n",
       "    }\n",
       "\n",
       "    .dataframe thead th {\n",
       "        text-align: left;\n",
       "    }\n",
       "\n",
       "    .dataframe tbody tr th {\n",
       "        vertical-align: top;\n",
       "    }\n",
       "</style>\n",
       "<table border=\"1\" class=\"dataframe\">\n",
       "  <thead>\n",
       "    <tr style=\"text-align: right;\">\n",
       "      <th></th>\n",
       "      <th>transactions</th>\n",
       "    </tr>\n",
       "  </thead>\n",
       "  <tbody>\n",
       "    <tr>\n",
       "      <th>0</th>\n",
       "      <td>tropical fruit,yogurt,coffee</td>\n",
       "    </tr>\n",
       "    <tr>\n",
       "      <th>1</th>\n",
       "      <td>whole milk</td>\n",
       "    </tr>\n",
       "    <tr>\n",
       "      <th>2</th>\n",
       "      <td>pip fruit,yogurt,cream cheese ,meat spreads</td>\n",
       "    </tr>\n",
       "    <tr>\n",
       "      <th>3</th>\n",
       "      <td>other vegetables,whole milk,condensed milk,lon...</td>\n",
       "    </tr>\n",
       "    <tr>\n",
       "      <th>4</th>\n",
       "      <td>whole milk,butter,yogurt,rice,abrasive cleaner</td>\n",
       "    </tr>\n",
       "  </tbody>\n",
       "</table>\n",
       "</div>"
      ],
      "text/plain": [
       "                                        transactions\n",
       "0                       tropical fruit,yogurt,coffee\n",
       "1                                         whole milk\n",
       "2        pip fruit,yogurt,cream cheese ,meat spreads\n",
       "3  other vegetables,whole milk,condensed milk,lon...\n",
       "4     whole milk,butter,yogurt,rice,abrasive cleaner"
      ]
     },
     "execution_count": 2,
     "metadata": {},
     "output_type": "execute_result"
    }
   ],
   "source": [
    "df = pd.read_csv(\n",
    "    'https://raw.githubusercontent.com/stedy/'\n",
    "    'Machine-Learning-with-R-datasets/master/groceries.csv', \n",
    "    ...)\n",
    "df.head()"
   ]
  },
  {
   "cell_type": "markdown",
   "metadata": {},
   "source": [
    "How many transactions are there?"
   ]
  },
  {
   "cell_type": "code",
   "execution_count": 3,
   "metadata": {
    "collapsed": false
   },
   "outputs": [
    {
     "data": {
      "text/plain": [
       "9834"
      ]
     },
     "execution_count": 3,
     "metadata": {},
     "output_type": "execute_result"
    }
   ],
   "source": []
  },
  {
   "cell_type": "markdown",
   "metadata": {},
   "source": [
    "Make a function to extract an array of items from each transaction. Make sure to  remove the trailing white spaces from items."
   ]
  },
  {
   "cell_type": "code",
   "execution_count": 4,
   "metadata": {
    "collapsed": false
   },
   "outputs": [
    {
     "data": {
      "text/plain": [
       "['tropical fruit', 'yogurt', 'coffee']"
      ]
     },
     "execution_count": 4,
     "metadata": {},
     "output_type": "execute_result"
    }
   ],
   "source": [
    "def transaction_items(transaction):\n",
    "    return(...)\n",
    "\n",
    "transaction_items('tropical fruit, yogurt,coffee')"
   ]
  },
  {
   "cell_type": "markdown",
   "metadata": {},
   "source": [
    "Make a bar chart of 25 most frequent items."
   ]
  },
  {
   "cell_type": "code",
   "execution_count": 5,
   "metadata": {
    "collapsed": false
   },
   "outputs": [
    {
     "data": {
      "image/png": "[encoded data removed]",
      "text/plain": [
       "<matplotlib.figure.Figure at 0x1fbe072f080>"
      ]
     },
     "metadata": {},
     "output_type": "display_data"
    }
   ],
   "source": [
    "items = "
   ]
  },
  {
   "cell_type": "markdown",
   "metadata": {},
   "source": [
    "Make a Pandas series of the items, indexed by item name. "
   ]
  },
  {
   "cell_type": "code",
   "execution_count": 6,
   "metadata": {
    "collapsed": false
   },
   "outputs": [],
   "source": [
    "items = "
   ]
  },
  {
   "cell_type": "markdown",
   "metadata": {},
   "source": [
    "Make a function that maps each item to the _iloc_ in the series."
   ]
  },
  {
   "cell_type": "code",
   "execution_count": 7,
   "metadata": {
    "collapsed": false
   },
   "outputs": [
    {
     "data": {
      "text/plain": [
       "[90, 116, 128]"
      ]
     },
     "execution_count": 7,
     "metadata": {},
     "output_type": "execute_result"
    }
   ],
   "source": [
    "def item_iloc(transaction):\n",
    "    return(...)\n",
    "item_iloc('tropical fruit, yogurt,coffee')"
   ]
  },
  {
   "cell_type": "markdown",
   "metadata": {},
   "source": [
    "Now construct a new transactions jagged array _X_ with instead of item names, _iloc_ values."
   ]
  },
  {
   "cell_type": "code",
   "execution_count": 8,
   "metadata": {
    "collapsed": false
   },
   "outputs": [
    {
     "data": {
      "text/plain": [
       "[[90, 116, 128],\n",
       " [115],\n",
       " [123, 116, 35, 13],\n",
       " [42, 115, 1, 65],\n",
       " [115, 48, 116, 9, 28],\n",
       " [61],\n",
       " [42, 166, 61, 43, 94],\n",
       " [22],\n",
       " [115, 47]]"
      ]
     },
     "execution_count": 8,
     "metadata": {},
     "output_type": "execute_result"
    }
   ],
   "source": [
    "X = \n",
    "X[0:9]"
   ]
  },
  {
   "cell_type": "markdown",
   "metadata": {},
   "source": [
    "# Aprior"
   ]
  },
  {
   "cell_type": "code",
   "execution_count": 9,
   "metadata": {
    "collapsed": true
   },
   "outputs": [],
   "source": [
    "from orangecontrib.associate.fpgrowth import frequent_itemsets, association_rules"
   ]
  },
  {
   "cell_type": "markdown",
   "metadata": {},
   "source": [
    "Aprori is one of the first association rule algorithms. It needs multiple scans of database. This is the reason the algorithm doesn't scale well. We will use the [orange3-associate](http://orange3-associate.readthedocs.io/en/latest/scripting.html) package for this. You can install it using \n",
    "\n",
    "pip install -i https://pypi.anaconda.org/ales-erjavec/simple orange3-associate."
   ]
  },
  {
   "cell_type": "markdown",
   "metadata": {},
   "source": [
    "Create a dictionary with frequent itemsets. (support >= 1%)"
   ]
  },
  {
   "cell_type": "code",
   "execution_count": 10,
   "metadata": {
    "collapsed": false
   },
   "outputs": [
    {
     "data": {
      "text/plain": [
       "333"
      ]
     },
     "execution_count": 10,
     "metadata": {},
     "output_type": "execute_result"
    }
   ],
   "source": [
    "itemsets = "
   ]
  },
  {
   "cell_type": "markdown",
   "metadata": {},
   "source": [
    "Now extract the rules from this itemset with confidence >= 50%."
   ]
  },
  {
   "cell_type": "code",
   "execution_count": 11,
   "metadata": {
    "collapsed": false
   },
   "outputs": [
    {
     "data": {
      "text/plain": [
       "15"
      ]
     },
     "execution_count": 11,
     "metadata": {},
     "output_type": "execute_result"
    }
   ],
   "source": [
    "rules = "
   ]
  },
  {
   "cell_type": "markdown",
   "metadata": {},
   "source": [
    "Pretty-print the rules with their supports and confidences."
   ]
  },
  {
   "cell_type": "code",
   "execution_count": 12,
   "metadata": {
    "collapsed": false,
    "scrolled": true
   },
   "outputs": [
    {
     "name": "stdout",
     "output_type": "stream",
     "text": [
      "{butter,other vegetables} --> {whole milk} (supp: 113, conf 0.57)\n",
      "{root vegetables,tropical fruit} --> {other vegetables} (supp: 121, conf 0.58)\n",
      "{root vegetables,yogurt} --> {whole milk} (supp: 143, conf 0.56)\n",
      "{yogurt,whipped/sour cream} --> {whole milk} (supp: 107, conf 0.52)\n",
      "{yogurt,curd} --> {whole milk} (supp: 99, conf 0.58)\n",
      "{tropical fruit,yogurt} --> {whole milk} (supp: 149, conf 0.52)\n",
      "{other vegetables,whipped/sour cream} --> {whole milk} (supp: 144, conf 0.51)\n",
      "{domestic eggs,other vegetables} --> {whole milk} (supp: 121, conf 0.55)\n",
      "{root vegetables,tropical fruit} --> {whole milk} (supp: 118, conf 0.57)\n",
      "{other vegetables,pip fruit} --> {whole milk} (supp: 133, conf 0.52)\n",
      "{other vegetables,yogurt} --> {whole milk} (supp: 219, conf 0.51)\n",
      "{root vegetables,rolls/buns} --> {whole milk} (supp: 125, conf 0.52)\n",
      "{root vegetables,yogurt} --> {other vegetables} (supp: 127, conf 0.50)\n",
      "{root vegetables,citrus fruit} --> {other vegetables} (supp: 102, conf 0.59)\n",
      "{root vegetables,rolls/buns} --> {other vegetables} (supp: 120, conf 0.50)\n"
     ]
    }
   ],
   "source": [
    "for ant, conseq, supp, conf in rules:\n",
    "    print('{{{}}} --> {{{}}} (supp: {}, conf {:.2f})'.\n",
    "          format(','.join(items.iloc[list(ant)]), \n",
    "                 ','.join(items.iloc[list(conseq)]), \n",
    "                 supp, conf))"
   ]
  },
  {
   "cell_type": "markdown",
   "metadata": {},
   "source": [
    "# FP-growth"
   ]
  },
  {
   "cell_type": "markdown",
   "metadata": {},
   "source": [
    "FP-Growth scales better than Apriori. Note that a decent parallel implementation exist in _spark.mllib_. This can be used on large dataset in a Hadoop environment. See [here](https://spark.apache.org/docs/2.1.0/mllib-frequent-pattern-mining.html)."
   ]
  }
 ],
 "metadata": {
  "kernelspec": {
   "display_name": "Python 3",
   "language": "python",
   "name": "python3"
  },
  "language_info": {
   "codemirror_mode": {
    "name": "ipython",
    "version": 3
   },
   "file_extension": ".py",
   "mimetype": "text/x-python",
   "name": "python",
   "nbconvert_exporter": "python",
   "pygments_lexer": "ipython3",
   "version": "3.5.2"
  }
 },
 "nbformat": 4,
 "nbformat_minor": 0
}
