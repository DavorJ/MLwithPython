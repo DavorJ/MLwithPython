{
 "cells": [
  {
   "cell_type": "markdown",
   "metadata": {},
   "source": [
    "# Classification"
   ]
  },
  {
   "cell_type": "code",
   "execution_count": 1,
   "metadata": {
    "collapsed": true
   },
   "outputs": [],
   "source": [
    "import pandas as pd\n",
    "import numpy as np\n",
    "%matplotlib inline"
   ]
  },
  {
   "cell_type": "markdown",
   "metadata": {},
   "source": [
    "This time, we will use the breast cancers dataset from wisconsin. https://raw.githubusercontent.com/stedy/Machine-Learning-with-R-datasets/master/wisc_bc_data.csv. Load it as a dataframe in _df_ variable."
   ]
  },
  {
   "cell_type": "code",
   "execution_count": 2,
   "metadata": {
    "collapsed": false
   },
   "outputs": [],
   "source": [
    "df = pd.read_csv('https://raw.githubusercontent.com/stedy/Machine-Learning-with-R-datasets/master/wisc_bc_data.csv')"
   ]
  },
  {
   "cell_type": "code",
   "execution_count": 3,
   "metadata": {
    "collapsed": false
   },
   "outputs": [
    {
     "data": {
      "text/html": [
       "<div>\n",
       "<style>\n",
       "    .dataframe thead tr:only-child th {\n",
       "        text-align: right;\n",
       "    }\n",
       "\n",
       "    .dataframe thead th {\n",
       "        text-align: left;\n",
       "    }\n",
       "\n",
       "    .dataframe tbody tr th {\n",
       "        vertical-align: top;\n",
       "    }\n",
       "</style>\n",
       "<table border=\"1\" class=\"dataframe\">\n",
       "  <thead>\n",
       "    <tr style=\"text-align: right;\">\n",
       "      <th></th>\n",
       "      <th>id</th>\n",
       "      <th>diagnosis</th>\n",
       "      <th>radius_mean</th>\n",
       "      <th>texture_mean</th>\n",
       "      <th>perimeter_mean</th>\n",
       "      <th>area_mean</th>\n",
       "      <th>smoothness_mean</th>\n",
       "      <th>compactness_mean</th>\n",
       "      <th>concavity_mean</th>\n",
       "      <th>concave points_mean</th>\n",
       "      <th>...</th>\n",
       "      <th>radius_worst</th>\n",
       "      <th>texture_worst</th>\n",
       "      <th>perimeter_worst</th>\n",
       "      <th>area_worst</th>\n",
       "      <th>smoothness_worst</th>\n",
       "      <th>compactness_worst</th>\n",
       "      <th>concavity_worst</th>\n",
       "      <th>concave points_worst</th>\n",
       "      <th>symmetry_worst</th>\n",
       "      <th>fractal_dimension_worst</th>\n",
       "    </tr>\n",
       "  </thead>\n",
       "  <tbody>\n",
       "    <tr>\n",
       "      <th>0</th>\n",
       "      <td>842302</td>\n",
       "      <td>M</td>\n",
       "      <td>17.99</td>\n",
       "      <td>10.38</td>\n",
       "      <td>122.80</td>\n",
       "      <td>1001.0</td>\n",
       "      <td>0.11840</td>\n",
       "      <td>0.27760</td>\n",
       "      <td>0.3001</td>\n",
       "      <td>0.14710</td>\n",
       "      <td>...</td>\n",
       "      <td>25.38</td>\n",
       "      <td>17.33</td>\n",
       "      <td>184.60</td>\n",
       "      <td>2019.0</td>\n",
       "      <td>0.1622</td>\n",
       "      <td>0.6656</td>\n",
       "      <td>0.7119</td>\n",
       "      <td>0.2654</td>\n",
       "      <td>0.4601</td>\n",
       "      <td>0.11890</td>\n",
       "    </tr>\n",
       "    <tr>\n",
       "      <th>1</th>\n",
       "      <td>842517</td>\n",
       "      <td>M</td>\n",
       "      <td>20.57</td>\n",
       "      <td>17.77</td>\n",
       "      <td>132.90</td>\n",
       "      <td>1326.0</td>\n",
       "      <td>0.08474</td>\n",
       "      <td>0.07864</td>\n",
       "      <td>0.0869</td>\n",
       "      <td>0.07017</td>\n",
       "      <td>...</td>\n",
       "      <td>24.99</td>\n",
       "      <td>23.41</td>\n",
       "      <td>158.80</td>\n",
       "      <td>1956.0</td>\n",
       "      <td>0.1238</td>\n",
       "      <td>0.1866</td>\n",
       "      <td>0.2416</td>\n",
       "      <td>0.1860</td>\n",
       "      <td>0.2750</td>\n",
       "      <td>0.08902</td>\n",
       "    </tr>\n",
       "    <tr>\n",
       "      <th>2</th>\n",
       "      <td>84300903</td>\n",
       "      <td>M</td>\n",
       "      <td>19.69</td>\n",
       "      <td>21.25</td>\n",
       "      <td>130.00</td>\n",
       "      <td>1203.0</td>\n",
       "      <td>0.10960</td>\n",
       "      <td>0.15990</td>\n",
       "      <td>0.1974</td>\n",
       "      <td>0.12790</td>\n",
       "      <td>...</td>\n",
       "      <td>23.57</td>\n",
       "      <td>25.53</td>\n",
       "      <td>152.50</td>\n",
       "      <td>1709.0</td>\n",
       "      <td>0.1444</td>\n",
       "      <td>0.4245</td>\n",
       "      <td>0.4504</td>\n",
       "      <td>0.2430</td>\n",
       "      <td>0.3613</td>\n",
       "      <td>0.08758</td>\n",
       "    </tr>\n",
       "    <tr>\n",
       "      <th>3</th>\n",
       "      <td>84348301</td>\n",
       "      <td>M</td>\n",
       "      <td>11.42</td>\n",
       "      <td>20.38</td>\n",
       "      <td>77.58</td>\n",
       "      <td>386.1</td>\n",
       "      <td>0.14250</td>\n",
       "      <td>0.28390</td>\n",
       "      <td>0.2414</td>\n",
       "      <td>0.10520</td>\n",
       "      <td>...</td>\n",
       "      <td>14.91</td>\n",
       "      <td>26.50</td>\n",
       "      <td>98.87</td>\n",
       "      <td>567.7</td>\n",
       "      <td>0.2098</td>\n",
       "      <td>0.8663</td>\n",
       "      <td>0.6869</td>\n",
       "      <td>0.2575</td>\n",
       "      <td>0.6638</td>\n",
       "      <td>0.17300</td>\n",
       "    </tr>\n",
       "    <tr>\n",
       "      <th>4</th>\n",
       "      <td>84358402</td>\n",
       "      <td>M</td>\n",
       "      <td>20.29</td>\n",
       "      <td>14.34</td>\n",
       "      <td>135.10</td>\n",
       "      <td>1297.0</td>\n",
       "      <td>0.10030</td>\n",
       "      <td>0.13280</td>\n",
       "      <td>0.1980</td>\n",
       "      <td>0.10430</td>\n",
       "      <td>...</td>\n",
       "      <td>22.54</td>\n",
       "      <td>16.67</td>\n",
       "      <td>152.20</td>\n",
       "      <td>1575.0</td>\n",
       "      <td>0.1374</td>\n",
       "      <td>0.2050</td>\n",
       "      <td>0.4000</td>\n",
       "      <td>0.1625</td>\n",
       "      <td>0.2364</td>\n",
       "      <td>0.07678</td>\n",
       "    </tr>\n",
       "  </tbody>\n",
       "</table>\n",
       "<p>5 rows × 32 columns</p>\n",
       "</div>"
      ],
      "text/plain": [
       "         id diagnosis  radius_mean  texture_mean  perimeter_mean  area_mean  \\\n",
       "0    842302         M        17.99         10.38          122.80     1001.0   \n",
       "1    842517         M        20.57         17.77          132.90     1326.0   \n",
       "2  84300903         M        19.69         21.25          130.00     1203.0   \n",
       "3  84348301         M        11.42         20.38           77.58      386.1   \n",
       "4  84358402         M        20.29         14.34          135.10     1297.0   \n",
       "\n",
       "   smoothness_mean  compactness_mean  concavity_mean  concave points_mean  \\\n",
       "0          0.11840           0.27760          0.3001              0.14710   \n",
       "1          0.08474           0.07864          0.0869              0.07017   \n",
       "2          0.10960           0.15990          0.1974              0.12790   \n",
       "3          0.14250           0.28390          0.2414              0.10520   \n",
       "4          0.10030           0.13280          0.1980              0.10430   \n",
       "\n",
       "            ...             radius_worst  texture_worst  perimeter_worst  \\\n",
       "0           ...                    25.38          17.33           184.60   \n",
       "1           ...                    24.99          23.41           158.80   \n",
       "2           ...                    23.57          25.53           152.50   \n",
       "3           ...                    14.91          26.50            98.87   \n",
       "4           ...                    22.54          16.67           152.20   \n",
       "\n",
       "   area_worst  smoothness_worst  compactness_worst  concavity_worst  \\\n",
       "0      2019.0            0.1622             0.6656           0.7119   \n",
       "1      1956.0            0.1238             0.1866           0.2416   \n",
       "2      1709.0            0.1444             0.4245           0.4504   \n",
       "3       567.7            0.2098             0.8663           0.6869   \n",
       "4      1575.0            0.1374             0.2050           0.4000   \n",
       "\n",
       "   concave points_worst  symmetry_worst  fractal_dimension_worst  \n",
       "0                0.2654          0.4601                  0.11890  \n",
       "1                0.1860          0.2750                  0.08902  \n",
       "2                0.2430          0.3613                  0.08758  \n",
       "3                0.2575          0.6638                  0.17300  \n",
       "4                0.1625          0.2364                  0.07678  \n",
       "\n",
       "[5 rows x 32 columns]"
      ]
     },
     "execution_count": 3,
     "metadata": {},
     "output_type": "execute_result"
    }
   ],
   "source": [
    "df.head()"
   ]
  },
  {
   "cell_type": "markdown",
   "metadata": {},
   "source": [
    "Remove the first column (id)."
   ]
  },
  {
   "cell_type": "code",
   "execution_count": 4,
   "metadata": {
    "collapsed": false
   },
   "outputs": [],
   "source": [
    "del df['id']"
   ]
  },
  {
   "cell_type": "markdown",
   "metadata": {},
   "source": [
    "How is the diagnosis feature distributed?"
   ]
  },
  {
   "cell_type": "code",
   "execution_count": 5,
   "metadata": {
    "collapsed": false
   },
   "outputs": [
    {
     "data": {
      "image/png": "[encoded data removed]",
      "text/plain": [
       "<matplotlib.figure.Figure at 0x21f9a3d1cf8>"
      ]
     },
     "metadata": {},
     "output_type": "display_data"
    }
   ],
   "source": [
    "df['diagnosis'].value_counts().plot(kind='bar');"
   ]
  },
  {
   "cell_type": "markdown",
   "metadata": {},
   "source": [
    "# Data Preparation"
   ]
  },
  {
   "cell_type": "markdown",
   "metadata": {},
   "source": [
    "Describe variables \"radius_mean\", \"texture_mean\" and \"area_mean\"."
   ]
  },
  {
   "cell_type": "code",
   "execution_count": 6,
   "metadata": {
    "collapsed": false
   },
   "outputs": [
    {
     "name": "stdout",
     "output_type": "stream",
     "text": [
      "       radius_mean  texture_mean    area_mean\n",
      "count   569.000000    569.000000   569.000000\n",
      "mean     14.127292     19.289649   654.889104\n",
      "std       3.524049      4.301036   351.914129\n",
      "min       6.981000      9.710000   143.500000\n",
      "25%      11.700000     16.170000   420.300000\n",
      "50%      13.370000     18.840000   551.100000\n",
      "75%      15.780000     21.800000   782.700000\n",
      "max      28.110000     39.280000  2501.000000\n"
     ]
    }
   ],
   "source": [
    "print(df[[\"radius_mean\", \"texture_mean\", \"area_mean\"]].describe())"
   ]
  },
  {
   "cell_type": "markdown",
   "metadata": {},
   "source": [
    "Show data type of each feature/column."
   ]
  },
  {
   "cell_type": "code",
   "execution_count": 7,
   "metadata": {
    "collapsed": false
   },
   "outputs": [
    {
     "data": {
      "text/plain": [
       "diagnosis                   object\n",
       "radius_mean                float64\n",
       "texture_mean               float64\n",
       "perimeter_mean             float64\n",
       "area_mean                  float64\n",
       "smoothness_mean            float64\n",
       "compactness_mean           float64\n",
       "concavity_mean             float64\n",
       "concave points_mean        float64\n",
       "symmetry_mean              float64\n",
       "fractal_dimension_mean     float64\n",
       "radius_se                  float64\n",
       "texture_se                 float64\n",
       "perimeter_se               float64\n",
       "area_se                    float64\n",
       "smoothness_se              float64\n",
       "compactness_se             float64\n",
       "concavity_se               float64\n",
       "concave points_se          float64\n",
       "symmetry_se                float64\n",
       "fractal_dimension_se       float64\n",
       "radius_worst               float64\n",
       "texture_worst              float64\n",
       "perimeter_worst            float64\n",
       "area_worst                 float64\n",
       "smoothness_worst           float64\n",
       "compactness_worst          float64\n",
       "concavity_worst            float64\n",
       "concave points_worst       float64\n",
       "symmetry_worst             float64\n",
       "fractal_dimension_worst    float64\n",
       "dtype: object"
      ]
     },
     "execution_count": 7,
     "metadata": {},
     "output_type": "execute_result"
    }
   ],
   "source": [
    "df.dtypes"
   ]
  },
  {
   "cell_type": "markdown",
   "metadata": {},
   "source": [
    "Normalize all features except diagnosis with the min-max normalization function."
   ]
  },
  {
   "cell_type": "code",
   "execution_count": 8,
   "metadata": {
    "collapsed": false
   },
   "outputs": [],
   "source": [
    "def norm_minmax(x):\n",
    "    return(np.subtract(x, min(x)) / (max(x) - min(x)))"
   ]
  },
  {
   "cell_type": "code",
   "execution_count": 9,
   "metadata": {
    "collapsed": false
   },
   "outputs": [],
   "source": [
    "y = df['diagnosis']\n",
    "X = df[df.columns.difference(['diagnosis'])].apply(norm_minmax, 'index', raw = True)"
   ]
  },
  {
   "cell_type": "code",
   "execution_count": 10,
   "metadata": {
    "collapsed": false
   },
   "outputs": [
    {
     "data": {
      "text/html": [
       "<div>\n",
       "<style>\n",
       "    .dataframe thead tr:only-child th {\n",
       "        text-align: right;\n",
       "    }\n",
       "\n",
       "    .dataframe thead th {\n",
       "        text-align: left;\n",
       "    }\n",
       "\n",
       "    .dataframe tbody tr th {\n",
       "        vertical-align: top;\n",
       "    }\n",
       "</style>\n",
       "<table border=\"1\" class=\"dataframe\">\n",
       "  <thead>\n",
       "    <tr style=\"text-align: right;\">\n",
       "      <th></th>\n",
       "      <th>area_mean</th>\n",
       "      <th>area_se</th>\n",
       "      <th>area_worst</th>\n",
       "      <th>compactness_mean</th>\n",
       "      <th>compactness_se</th>\n",
       "      <th>compactness_worst</th>\n",
       "      <th>concave points_mean</th>\n",
       "      <th>concave points_se</th>\n",
       "      <th>concave points_worst</th>\n",
       "      <th>concavity_mean</th>\n",
       "      <th>...</th>\n",
       "      <th>radius_worst</th>\n",
       "      <th>smoothness_mean</th>\n",
       "      <th>smoothness_se</th>\n",
       "      <th>smoothness_worst</th>\n",
       "      <th>symmetry_mean</th>\n",
       "      <th>symmetry_se</th>\n",
       "      <th>symmetry_worst</th>\n",
       "      <th>texture_mean</th>\n",
       "      <th>texture_se</th>\n",
       "      <th>texture_worst</th>\n",
       "    </tr>\n",
       "  </thead>\n",
       "  <tbody>\n",
       "    <tr>\n",
       "      <th>0</th>\n",
       "      <td>0.363733</td>\n",
       "      <td>0.273811</td>\n",
       "      <td>0.450698</td>\n",
       "      <td>0.792037</td>\n",
       "      <td>0.351398</td>\n",
       "      <td>0.619292</td>\n",
       "      <td>0.731113</td>\n",
       "      <td>0.300625</td>\n",
       "      <td>0.912027</td>\n",
       "      <td>0.703140</td>\n",
       "      <td>...</td>\n",
       "      <td>0.620776</td>\n",
       "      <td>0.593753</td>\n",
       "      <td>0.159296</td>\n",
       "      <td>0.601136</td>\n",
       "      <td>0.686364</td>\n",
       "      <td>0.311645</td>\n",
       "      <td>0.598462</td>\n",
       "      <td>0.022658</td>\n",
       "      <td>0.120469</td>\n",
       "      <td>0.141525</td>\n",
       "    </tr>\n",
       "    <tr>\n",
       "      <th>1</th>\n",
       "      <td>0.501591</td>\n",
       "      <td>0.125660</td>\n",
       "      <td>0.435214</td>\n",
       "      <td>0.181768</td>\n",
       "      <td>0.081323</td>\n",
       "      <td>0.154563</td>\n",
       "      <td>0.348757</td>\n",
       "      <td>0.253836</td>\n",
       "      <td>0.639175</td>\n",
       "      <td>0.203608</td>\n",
       "      <td>...</td>\n",
       "      <td>0.606901</td>\n",
       "      <td>0.289880</td>\n",
       "      <td>0.119387</td>\n",
       "      <td>0.347553</td>\n",
       "      <td>0.379798</td>\n",
       "      <td>0.084539</td>\n",
       "      <td>0.233590</td>\n",
       "      <td>0.272574</td>\n",
       "      <td>0.082589</td>\n",
       "      <td>0.303571</td>\n",
       "    </tr>\n",
       "    <tr>\n",
       "      <th>2</th>\n",
       "      <td>0.449417</td>\n",
       "      <td>0.162922</td>\n",
       "      <td>0.374508</td>\n",
       "      <td>0.431017</td>\n",
       "      <td>0.283955</td>\n",
       "      <td>0.385375</td>\n",
       "      <td>0.635686</td>\n",
       "      <td>0.389847</td>\n",
       "      <td>0.835052</td>\n",
       "      <td>0.462512</td>\n",
       "      <td>...</td>\n",
       "      <td>0.556386</td>\n",
       "      <td>0.514309</td>\n",
       "      <td>0.150831</td>\n",
       "      <td>0.483590</td>\n",
       "      <td>0.509596</td>\n",
       "      <td>0.205690</td>\n",
       "      <td>0.403706</td>\n",
       "      <td>0.390260</td>\n",
       "      <td>0.094303</td>\n",
       "      <td>0.360075</td>\n",
       "    </tr>\n",
       "    <tr>\n",
       "      <th>3</th>\n",
       "      <td>0.102906</td>\n",
       "      <td>0.038155</td>\n",
       "      <td>0.094008</td>\n",
       "      <td>0.811361</td>\n",
       "      <td>0.543215</td>\n",
       "      <td>0.814012</td>\n",
       "      <td>0.522863</td>\n",
       "      <td>0.353665</td>\n",
       "      <td>0.884880</td>\n",
       "      <td>0.565604</td>\n",
       "      <td>...</td>\n",
       "      <td>0.248310</td>\n",
       "      <td>0.811321</td>\n",
       "      <td>0.251453</td>\n",
       "      <td>0.915472</td>\n",
       "      <td>0.776263</td>\n",
       "      <td>0.728148</td>\n",
       "      <td>1.000000</td>\n",
       "      <td>0.360839</td>\n",
       "      <td>0.175875</td>\n",
       "      <td>0.385928</td>\n",
       "    </tr>\n",
       "    <tr>\n",
       "      <th>4</th>\n",
       "      <td>0.489290</td>\n",
       "      <td>0.163688</td>\n",
       "      <td>0.341575</td>\n",
       "      <td>0.347893</td>\n",
       "      <td>0.167918</td>\n",
       "      <td>0.172415</td>\n",
       "      <td>0.518390</td>\n",
       "      <td>0.357075</td>\n",
       "      <td>0.558419</td>\n",
       "      <td>0.463918</td>\n",
       "      <td>...</td>\n",
       "      <td>0.519744</td>\n",
       "      <td>0.430351</td>\n",
       "      <td>0.332359</td>\n",
       "      <td>0.437364</td>\n",
       "      <td>0.378283</td>\n",
       "      <td>0.136179</td>\n",
       "      <td>0.157500</td>\n",
       "      <td>0.156578</td>\n",
       "      <td>0.093065</td>\n",
       "      <td>0.123934</td>\n",
       "    </tr>\n",
       "  </tbody>\n",
       "</table>\n",
       "<p>5 rows × 30 columns</p>\n",
       "</div>"
      ],
      "text/plain": [
       "   area_mean   area_se  area_worst  compactness_mean  compactness_se  \\\n",
       "0   0.363733  0.273811    0.450698          0.792037        0.351398   \n",
       "1   0.501591  0.125660    0.435214          0.181768        0.081323   \n",
       "2   0.449417  0.162922    0.374508          0.431017        0.283955   \n",
       "3   0.102906  0.038155    0.094008          0.811361        0.543215   \n",
       "4   0.489290  0.163688    0.341575          0.347893        0.167918   \n",
       "\n",
       "   compactness_worst  concave points_mean  concave points_se  \\\n",
       "0           0.619292             0.731113           0.300625   \n",
       "1           0.154563             0.348757           0.253836   \n",
       "2           0.385375             0.635686           0.389847   \n",
       "3           0.814012             0.522863           0.353665   \n",
       "4           0.172415             0.518390           0.357075   \n",
       "\n",
       "   concave points_worst  concavity_mean      ...        radius_worst  \\\n",
       "0              0.912027        0.703140      ...            0.620776   \n",
       "1              0.639175        0.203608      ...            0.606901   \n",
       "2              0.835052        0.462512      ...            0.556386   \n",
       "3              0.884880        0.565604      ...            0.248310   \n",
       "4              0.558419        0.463918      ...            0.519744   \n",
       "\n",
       "   smoothness_mean  smoothness_se  smoothness_worst  symmetry_mean  \\\n",
       "0         0.593753       0.159296          0.601136       0.686364   \n",
       "1         0.289880       0.119387          0.347553       0.379798   \n",
       "2         0.514309       0.150831          0.483590       0.509596   \n",
       "3         0.811321       0.251453          0.915472       0.776263   \n",
       "4         0.430351       0.332359          0.437364       0.378283   \n",
       "\n",
       "   symmetry_se  symmetry_worst  texture_mean  texture_se  texture_worst  \n",
       "0     0.311645        0.598462      0.022658    0.120469       0.141525  \n",
       "1     0.084539        0.233590      0.272574    0.082589       0.303571  \n",
       "2     0.205690        0.403706      0.390260    0.094303       0.360075  \n",
       "3     0.728148        1.000000      0.360839    0.175875       0.385928  \n",
       "4     0.136179        0.157500      0.156578    0.093065       0.123934  \n",
       "\n",
       "[5 rows x 30 columns]"
      ]
     },
     "execution_count": 10,
     "metadata": {},
     "output_type": "execute_result"
    }
   ],
   "source": [
    "X.head()"
   ]
  },
  {
   "cell_type": "markdown",
   "metadata": {},
   "source": [
    "Split the data into a test (20%) and train set."
   ]
  },
  {
   "cell_type": "code",
   "execution_count": 11,
   "metadata": {
    "collapsed": true
   },
   "outputs": [],
   "source": [
    "from sklearn.model_selection import train_test_split\n",
    "X_train, X_test, y_train, y_test = train_test_split(X, y, test_size = 0.2, random_state = 2017)"
   ]
  },
  {
   "cell_type": "markdown",
   "metadata": {},
   "source": [
    "# K Nearest Neighbours"
   ]
  },
  {
   "cell_type": "code",
   "execution_count": 12,
   "metadata": {
    "collapsed": true
   },
   "outputs": [],
   "source": [
    "from sklearn.neighbors import KNeighborsClassifier"
   ]
  },
  {
   "cell_type": "markdown",
   "metadata": {},
   "source": [
    "Predict the diagnosis from the test set based on 5 points using euclidean distance metric."
   ]
  },
  {
   "cell_type": "code",
   "execution_count": 13,
   "metadata": {
    "collapsed": false
   },
   "outputs": [
    {
     "data": {
      "text/plain": [
       "KNeighborsClassifier(algorithm='auto', leaf_size=30, metric='minkowski',\n",
       "           metric_params=None, n_jobs=1, n_neighbors=5, p=2,\n",
       "           weights='distance')"
      ]
     },
     "execution_count": 13,
     "metadata": {},
     "output_type": "execute_result"
    }
   ],
   "source": [
    "m_km = KNeighborsClassifier(n_neighbors=5, weights='distance')\n",
    "m_km.fit(X=X_train, y=y_train)"
   ]
  },
  {
   "cell_type": "code",
   "execution_count": 14,
   "metadata": {
    "collapsed": true
   },
   "outputs": [],
   "source": [
    "yhat_km_test = m_km.predict(X=X_test)"
   ]
  },
  {
   "cell_type": "markdown",
   "metadata": {},
   "source": [
    "Calculate the confusion matrix with sklearn.metrics."
   ]
  },
  {
   "cell_type": "code",
   "execution_count": 15,
   "metadata": {
    "collapsed": true
   },
   "outputs": [],
   "source": [
    "from sklearn.metrics import confusion_matrix"
   ]
  },
  {
   "cell_type": "code",
   "execution_count": 16,
   "metadata": {
    "collapsed": false
   },
   "outputs": [
    {
     "data": {
      "text/plain": [
       "array([[79,  0],\n",
       "       [ 2, 33]], dtype=int64)"
      ]
     },
     "execution_count": 16,
     "metadata": {},
     "output_type": "execute_result"
    }
   ],
   "source": [
    "confusion_matrix(y_test, yhat_km_test)"
   ]
  },
  {
   "cell_type": "markdown",
   "metadata": {},
   "source": [
    "We +/- reuse the code from [here](http://scikit-learn.org/stable/auto_examples/model_selection/plot_confusion_matrix.html) to plot a better confusion matrix visualisation."
   ]
  },
  {
   "cell_type": "code",
   "execution_count": 17,
   "metadata": {
    "collapsed": false
   },
   "outputs": [
    {
     "data": {
      "image/png": "[encoded data removed]",
      "text/plain": [
       "<matplotlib.figure.Figure at 0x21f9c4d17f0>"
      ]
     },
     "metadata": {},
     "output_type": "display_data"
    }
   ],
   "source": [
    "def confusion_matrix_plot(y_true, y_test, label_dict=None, title='Confusion matrix', cmap=None):\n",
    "    \n",
    "    import matplotlib.pyplot as plt\n",
    "    import numpy as np\n",
    "    \n",
    "    # Variable preparation\n",
    "    if cmap is None: cmap = plt.cm.Blues\n",
    "    y_unique = np.unique(np.hstack((y_true, y_test))) # sorted\n",
    "    if label_dict is None: label_dict = dict(zip(y_unique, y_unique))\n",
    "    \n",
    "    # Calculate confusion matrix\n",
    "    from sklearn.metrics import confusion_matrix\n",
    "    cm = confusion_matrix(y_true=y_true, y_pred=y_test, labels=y_unique) \n",
    "    \n",
    "    # Plot the confusion matrix\n",
    "    plt.imshow(cm, interpolation='nearest', cmap=cmap)\n",
    "    plt.title(title)\n",
    "    plt.ylabel('True label')\n",
    "    plt.xlabel('Predicted label')\n",
    "    plt.colorbar()\n",
    "    tick_marks = np.arange(len(y_unique))\n",
    "    plt.xticks(tick_marks, [label_dict[x] for x in y_unique], rotation=45)\n",
    "    plt.yticks(tick_marks, [label_dict[x] for x in y_unique])\n",
    "    plt.tight_layout()\n",
    "\n",
    "    # Put quantities in squares\n",
    "    width, height = cm.shape\n",
    "    for x in range(width):\n",
    "        for y in range(height):\n",
    "            plt.annotate(str(cm[x][y]), xy=(y, x), \n",
    "                        horizontalalignment='center',\n",
    "                        verticalalignment='center')\n",
    "            \n",
    "confusion_matrix_plot(y_test, yhat_km_test)"
   ]
  },
  {
   "cell_type": "markdown",
   "metadata": {
    "collapsed": false
   },
   "source": [
    "# Naive Bayes"
   ]
  },
  {
   "cell_type": "code",
   "execution_count": 18,
   "metadata": {
    "collapsed": true
   },
   "outputs": [],
   "source": [
    "from sklearn.naive_bayes import GaussianNB"
   ]
  },
  {
   "cell_type": "markdown",
   "metadata": {},
   "source": [
    "Train a model based on Naive Bayes with the train data, and show the model parameters."
   ]
  },
  {
   "cell_type": "code",
   "execution_count": 19,
   "metadata": {
    "collapsed": false
   },
   "outputs": [
    {
     "data": {
      "text/plain": [
       "GaussianNB(priors=None)"
      ]
     },
     "execution_count": 19,
     "metadata": {},
     "output_type": "execute_result"
    }
   ],
   "source": [
    "m_nb = GaussianNB()\n",
    "m_nb.fit(X=X_train, y=y_train)"
   ]
  },
  {
   "cell_type": "markdown",
   "metadata": {},
   "source": [
    "Predict the labels of the test data, using the trained model"
   ]
  },
  {
   "cell_type": "code",
   "execution_count": 20,
   "metadata": {
    "collapsed": false
   },
   "outputs": [],
   "source": [
    "yhat_nb_test = m_nb.predict(X=X_test)"
   ]
  },
  {
   "cell_type": "markdown",
   "metadata": {},
   "source": [
    "What does the confusion matrix look like?"
   ]
  },
  {
   "cell_type": "code",
   "execution_count": 21,
   "metadata": {
    "collapsed": false
   },
   "outputs": [
    {
     "data": {
      "image/png": "[encoded data removed]",
      "text/plain": [
       "<matplotlib.figure.Figure at 0x21f9c4d3320>"
      ]
     },
     "metadata": {},
     "output_type": "display_data"
    }
   ],
   "source": [
    "confusion_matrix_plot(y_test, yhat_nb_test)"
   ]
  },
  {
   "cell_type": "markdown",
   "metadata": {},
   "source": [
    "# Logistic regression"
   ]
  },
  {
   "cell_type": "code",
   "execution_count": 22,
   "metadata": {
    "collapsed": true
   },
   "outputs": [],
   "source": [
    "from sklearn.linear_model import LogisticRegression"
   ]
  },
  {
   "cell_type": "markdown",
   "metadata": {},
   "source": [
    "Train a logistic model with the train data."
   ]
  },
  {
   "cell_type": "code",
   "execution_count": 23,
   "metadata": {
    "collapsed": false
   },
   "outputs": [
    {
     "data": {
      "text/plain": [
       "LogisticRegression(C=1.0, class_weight=None, dual=False, fit_intercept=True,\n",
       "          intercept_scaling=1, max_iter=100, multi_class='ovr', n_jobs=1,\n",
       "          penalty='l2', random_state=None, solver='liblinear', tol=0.0001,\n",
       "          verbose=0, warm_start=False)"
      ]
     },
     "execution_count": 23,
     "metadata": {},
     "output_type": "execute_result"
    }
   ],
   "source": [
    "m_logit = LogisticRegression()\n",
    "m_logit.fit(X=X_train, y=y_train)"
   ]
  },
  {
   "cell_type": "markdown",
   "metadata": {},
   "source": [
    "Show the coefficients of the model."
   ]
  },
  {
   "cell_type": "code",
   "execution_count": 24,
   "metadata": {
    "collapsed": false,
    "scrolled": true
   },
   "outputs": [
    {
     "data": {
      "text/plain": [
       "array([[ 1.10623979,  0.87476032,  1.49457907,  0.40905139, -0.52149027,\n",
       "         0.83056318,  2.35146004, -0.01753778,  2.32044609,  1.72422491,\n",
       "        -0.40187513,  1.27707837, -1.47744673, -0.6480444 ,  0.20824639,\n",
       "         0.90442158,  1.00768155,  1.60955949,  0.83983638,  1.25932075,\n",
       "         1.68713813, -0.41595565, -0.28693575,  0.55229359, -0.27237219,\n",
       "        -0.51890095,  0.78930533,  0.81380262, -0.28361369,  1.38648322]])"
      ]
     },
     "execution_count": 24,
     "metadata": {},
     "output_type": "execute_result"
    }
   ],
   "source": [
    "m_logit.coef_"
   ]
  },
  {
   "cell_type": "markdown",
   "metadata": {},
   "source": [
    "Predict the labels of the test data, using the trained model."
   ]
  },
  {
   "cell_type": "code",
   "execution_count": 25,
   "metadata": {
    "collapsed": true
   },
   "outputs": [],
   "source": [
    "yhat_logit_test = m_logit.predict(X=X_test)"
   ]
  },
  {
   "cell_type": "markdown",
   "metadata": {},
   "source": [
    "What does the confusion matrix look like?"
   ]
  },
  {
   "cell_type": "code",
   "execution_count": 26,
   "metadata": {
    "collapsed": false
   },
   "outputs": [
    {
     "data": {
      "image/png": "[encoded data removed]",
      "text/plain": [
       "<matplotlib.figure.Figure at 0x21f9c7954e0>"
      ]
     },
     "metadata": {},
     "output_type": "display_data"
    }
   ],
   "source": [
    "confusion_matrix_plot(y_test, yhat_logit_test)"
   ]
  },
  {
   "cell_type": "markdown",
   "metadata": {},
   "source": [
    "# Decision trees"
   ]
  },
  {
   "cell_type": "code",
   "execution_count": 27,
   "metadata": {
    "collapsed": true
   },
   "outputs": [],
   "source": [
    "from sklearn.tree import DecisionTreeClassifier, export_graphviz\n",
    "import graphviz"
   ]
  },
  {
   "cell_type": "markdown",
   "metadata": {},
   "source": [
    "Train a logistic model with the train data. Limit the number of leafs to 5."
   ]
  },
  {
   "cell_type": "code",
   "execution_count": 28,
   "metadata": {
    "collapsed": false
   },
   "outputs": [
    {
     "data": {
      "text/plain": [
       "DecisionTreeClassifier(class_weight=None, criterion='gini', max_depth=None,\n",
       "            max_features=None, max_leaf_nodes=5, min_impurity_decrease=0.0,\n",
       "            min_impurity_split=None, min_samples_leaf=1,\n",
       "            min_samples_split=2, min_weight_fraction_leaf=0.0,\n",
       "            presort=False, random_state=2017, splitter='best')"
      ]
     },
     "execution_count": 28,
     "metadata": {},
     "output_type": "execute_result"
    }
   ],
   "source": [
    "m_tree = DecisionTreeClassifier(max_leaf_nodes = 5, random_state = 2017)\n",
    "m_tree.fit(X=X_train, y=y_train)"
   ]
  },
  {
   "cell_type": "markdown",
   "metadata": {},
   "source": [
    "Show the decision tree."
   ]
  },
  {
   "cell_type": "code",
   "execution_count": 29,
   "metadata": {
    "collapsed": false
   },
   "outputs": [
    {
     "data": {
      "image/svg+xml": [
       "<?xml version=\"1.0\" encoding=\"UTF-8\" standalone=\"no\"?>\r\n",
       "<!DOCTYPE svg PUBLIC \"-//W3C//DTD SVG 1.1//EN\"\r\n",
       " \"http://www.w3.org/Graphics/SVG/1.1/DTD/svg11.dtd\">\r\n",
       "<!-- Generated by graphviz version 2.38.0 (20140413.2041)\r\n",
       " -->\r\n",
       "<!-- Title: Tree Pages: 1 -->\r\n",
       "<svg width=\"408pt\" height=\"477pt\"\r\n",
       " viewBox=\"0.00 0.00 408.00 477.00\" xmlns=\"http://www.w3.org/2000/svg\" xmlns:xlink=\"http://www.w3.org/1999/xlink\">\r\n",
       "<g id=\"graph0\" class=\"graph\" transform=\"scale(1 1) rotate(0) translate(4 473)\">\r\n",
       "<title>Tree</title>\r\n",
       "<polygon fill=\"white\" stroke=\"none\" points=\"-4,4 -4,-473 404,-473 404,4 -4,4\"/>\r\n",
       "<!-- 0 -->\r\n",
       "<g id=\"node1\" class=\"node\"><title>0</title>\r\n",
       "<polygon fill=\"none\" stroke=\"black\" points=\"342.5,-469 189.5,-469 189.5,-401 342.5,-401 342.5,-469\"/>\r\n",
       "<text text-anchor=\"start\" x=\"197.5\" y=\"-453.8\" font-family=\"Times New Roman,serif\" font-size=\"14.00\">perimeter_worst ≤ 0.312</text>\r\n",
       "<text text-anchor=\"start\" x=\"232.5\" y=\"-438.8\" font-family=\"Times New Roman,serif\" font-size=\"14.00\">gini = 0.475</text>\r\n",
       "<text text-anchor=\"start\" x=\"225\" y=\"-423.8\" font-family=\"Times New Roman,serif\" font-size=\"14.00\">samples = 455</text>\r\n",
       "<text text-anchor=\"start\" x=\"215\" y=\"-408.8\" font-family=\"Times New Roman,serif\" font-size=\"14.00\">value = [278, 177]</text>\r\n",
       "</g>\r\n",
       "<!-- 1 -->\r\n",
       "<g id=\"node2\" class=\"node\"><title>1</title>\r\n",
       "<polygon fill=\"none\" stroke=\"black\" points=\"278,-365 92,-365 92,-297 278,-297 278,-365\"/>\r\n",
       "<text text-anchor=\"start\" x=\"100\" y=\"-349.8\" font-family=\"Times New Roman,serif\" font-size=\"14.00\">concave points_worst ≤ 0.559</text>\r\n",
       "<text text-anchor=\"start\" x=\"151.5\" y=\"-334.8\" font-family=\"Times New Roman,serif\" font-size=\"14.00\">gini = 0.164</text>\r\n",
       "<text text-anchor=\"start\" x=\"144\" y=\"-319.8\" font-family=\"Times New Roman,serif\" font-size=\"14.00\">samples = 300</text>\r\n",
       "<text text-anchor=\"start\" x=\"137.5\" y=\"-304.8\" font-family=\"Times New Roman,serif\" font-size=\"14.00\">value = [273, 27]</text>\r\n",
       "</g>\r\n",
       "<!-- 0&#45;&gt;1 -->\r\n",
       "<g id=\"edge1\" class=\"edge\"><title>0&#45;&gt;1</title>\r\n",
       "<path fill=\"none\" stroke=\"black\" d=\"M239.702,-400.884C232.699,-392.065 225.047,-382.43 217.745,-373.235\"/>\r\n",
       "<polygon fill=\"black\" stroke=\"black\" points=\"220.403,-370.954 211.444,-365.299 214.922,-375.307 220.403,-370.954\"/>\r\n",
       "<text text-anchor=\"middle\" x=\"208.593\" y=\"-386.436\" font-family=\"Times New Roman,serif\" font-size=\"14.00\">True</text>\r\n",
       "</g>\r\n",
       "<!-- 2 -->\r\n",
       "<g id=\"node9\" class=\"node\"><title>2</title>\r\n",
       "<polygon fill=\"none\" stroke=\"black\" points=\"400,-357.5 296,-357.5 296,-304.5 400,-304.5 400,-357.5\"/>\r\n",
       "<text text-anchor=\"start\" x=\"314.5\" y=\"-342.3\" font-family=\"Times New Roman,serif\" font-size=\"14.00\">gini = 0.062</text>\r\n",
       "<text text-anchor=\"start\" x=\"307\" y=\"-327.3\" font-family=\"Times New Roman,serif\" font-size=\"14.00\">samples = 155</text>\r\n",
       "<text text-anchor=\"start\" x=\"304\" y=\"-312.3\" font-family=\"Times New Roman,serif\" font-size=\"14.00\">value = [5, 150]</text>\r\n",
       "</g>\r\n",
       "<!-- 0&#45;&gt;2 -->\r\n",
       "<g id=\"edge8\" class=\"edge\"><title>0&#45;&gt;2</title>\r\n",
       "<path fill=\"none\" stroke=\"black\" d=\"M292.623,-400.884C301.73,-389.556 311.92,-376.88 321.052,-365.521\"/>\r\n",
       "<polygon fill=\"black\" stroke=\"black\" points=\"323.946,-367.507 327.484,-357.52 318.491,-363.121 323.946,-367.507\"/>\r\n",
       "<text text-anchor=\"middle\" x=\"330.185\" y=\"-378.674\" font-family=\"Times New Roman,serif\" font-size=\"14.00\">False</text>\r\n",
       "</g>\r\n",
       "<!-- 3 -->\r\n",
       "<g id=\"node3\" class=\"node\"><title>3</title>\r\n",
       "<polygon fill=\"none\" stroke=\"black\" points=\"180.5,-261 63.5,-261 63.5,-193 180.5,-193 180.5,-261\"/>\r\n",
       "<text text-anchor=\"start\" x=\"71.5\" y=\"-245.8\" font-family=\"Times New Roman,serif\" font-size=\"14.00\">area_worst ≤ 0.14</text>\r\n",
       "<text text-anchor=\"start\" x=\"88.5\" y=\"-230.8\" font-family=\"Times New Roman,serif\" font-size=\"14.00\">gini = 0.093</text>\r\n",
       "<text text-anchor=\"start\" x=\"81\" y=\"-215.8\" font-family=\"Times New Roman,serif\" font-size=\"14.00\">samples = 285</text>\r\n",
       "<text text-anchor=\"start\" x=\"74.5\" y=\"-200.8\" font-family=\"Times New Roman,serif\" font-size=\"14.00\">value = [271, 14]</text>\r\n",
       "</g>\r\n",
       "<!-- 1&#45;&gt;3 -->\r\n",
       "<g id=\"edge2\" class=\"edge\"><title>1&#45;&gt;3</title>\r\n",
       "<path fill=\"none\" stroke=\"black\" d=\"M164.546,-296.884C159.264,-288.332 153.508,-279.013 147.986,-270.072\"/>\r\n",
       "<polygon fill=\"black\" stroke=\"black\" points=\"150.8,-267.968 142.567,-261.299 144.844,-271.647 150.8,-267.968\"/>\r\n",
       "</g>\r\n",
       "<!-- 4 -->\r\n",
       "<g id=\"node8\" class=\"node\"><title>4</title>\r\n",
       "<polygon fill=\"none\" stroke=\"black\" points=\"297,-253.5 199,-253.5 199,-200.5 297,-200.5 297,-253.5\"/>\r\n",
       "<text text-anchor=\"start\" x=\"214.5\" y=\"-238.3\" font-family=\"Times New Roman,serif\" font-size=\"14.00\">gini = 0.231</text>\r\n",
       "<text text-anchor=\"start\" x=\"210.5\" y=\"-223.3\" font-family=\"Times New Roman,serif\" font-size=\"14.00\">samples = 15</text>\r\n",
       "<text text-anchor=\"start\" x=\"207\" y=\"-208.3\" font-family=\"Times New Roman,serif\" font-size=\"14.00\">value = [2, 13]</text>\r\n",
       "</g>\r\n",
       "<!-- 1&#45;&gt;4 -->\r\n",
       "<g id=\"edge7\" class=\"edge\"><title>1&#45;&gt;4</title>\r\n",
       "<path fill=\"none\" stroke=\"black\" d=\"M205.454,-296.884C212.315,-285.776 219.976,-273.372 226.886,-262.184\"/>\r\n",
       "<polygon fill=\"black\" stroke=\"black\" points=\"229.961,-263.867 232.238,-253.52 224.005,-260.189 229.961,-263.867\"/>\r\n",
       "</g>\r\n",
       "<!-- 5 -->\r\n",
       "<g id=\"node4\" class=\"node\"><title>5</title>\r\n",
       "<polygon fill=\"none\" stroke=\"black\" points=\"104,-149.5 0,-149.5 0,-96.5 104,-96.5 104,-149.5\"/>\r\n",
       "<text text-anchor=\"start\" x=\"18.5\" y=\"-134.3\" font-family=\"Times New Roman,serif\" font-size=\"14.00\">gini = 0.024</text>\r\n",
       "<text text-anchor=\"start\" x=\"11\" y=\"-119.3\" font-family=\"Times New Roman,serif\" font-size=\"14.00\">samples = 245</text>\r\n",
       "<text text-anchor=\"start\" x=\"8\" y=\"-104.3\" font-family=\"Times New Roman,serif\" font-size=\"14.00\">value = [242, 3]</text>\r\n",
       "</g>\r\n",
       "<!-- 3&#45;&gt;5 -->\r\n",
       "<g id=\"edge3\" class=\"edge\"><title>3&#45;&gt;5</title>\r\n",
       "<path fill=\"none\" stroke=\"black\" d=\"M99.273,-192.884C91.5745,-181.666 82.9689,-169.126 75.2317,-157.852\"/>\r\n",
       "<polygon fill=\"black\" stroke=\"black\" points=\"78.0579,-155.785 69.5137,-149.52 72.2863,-159.746 78.0579,-155.785\"/>\r\n",
       "</g>\r\n",
       "<!-- 6 -->\r\n",
       "<g id=\"node5\" class=\"node\"><title>6</title>\r\n",
       "<polygon fill=\"none\" stroke=\"black\" points=\"264,-157 122,-157 122,-89 264,-89 264,-157\"/>\r\n",
       "<text text-anchor=\"start\" x=\"130\" y=\"-141.8\" font-family=\"Times New Roman,serif\" font-size=\"14.00\">smoothness_se ≤ 0.21</text>\r\n",
       "<text text-anchor=\"start\" x=\"159.5\" y=\"-126.8\" font-family=\"Times New Roman,serif\" font-size=\"14.00\">gini = 0.399</text>\r\n",
       "<text text-anchor=\"start\" x=\"155.5\" y=\"-111.8\" font-family=\"Times New Roman,serif\" font-size=\"14.00\">samples = 40</text>\r\n",
       "<text text-anchor=\"start\" x=\"149\" y=\"-96.8\" font-family=\"Times New Roman,serif\" font-size=\"14.00\">value = [29, 11]</text>\r\n",
       "</g>\r\n",
       "<!-- 3&#45;&gt;6 -->\r\n",
       "<g id=\"edge4\" class=\"edge\"><title>3&#45;&gt;6</title>\r\n",
       "<path fill=\"none\" stroke=\"black\" d=\"M145.052,-192.884C151.128,-184.154 157.761,-174.625 164.103,-165.514\"/>\r\n",
       "<polygon fill=\"black\" stroke=\"black\" points=\"166.981,-167.506 169.821,-157.299 161.235,-163.507 166.981,-167.506\"/>\r\n",
       "</g>\r\n",
       "<!-- 7 -->\r\n",
       "<g id=\"node6\" class=\"node\"><title>7</title>\r\n",
       "<polygon fill=\"none\" stroke=\"black\" points=\"185,-53 87,-53 87,-0 185,-0 185,-53\"/>\r\n",
       "<text text-anchor=\"start\" x=\"102.5\" y=\"-37.8\" font-family=\"Times New Roman,serif\" font-size=\"14.00\">gini = 0.213</text>\r\n",
       "<text text-anchor=\"start\" x=\"98.5\" y=\"-22.8\" font-family=\"Times New Roman,serif\" font-size=\"14.00\">samples = 33</text>\r\n",
       "<text text-anchor=\"start\" x=\"95\" y=\"-7.8\" font-family=\"Times New Roman,serif\" font-size=\"14.00\">value = [29, 4]</text>\r\n",
       "</g>\r\n",
       "<!-- 6&#45;&gt;7 -->\r\n",
       "<g id=\"edge5\" class=\"edge\"><title>6&#45;&gt;7</title>\r\n",
       "<path fill=\"none\" stroke=\"black\" d=\"M173.064,-88.9485C167.767,-80.1664 162.035,-70.6629 156.698,-61.815\"/>\r\n",
       "<polygon fill=\"black\" stroke=\"black\" points=\"159.686,-59.9919 151.524,-53.2367 153.692,-63.6074 159.686,-59.9919\"/>\r\n",
       "</g>\r\n",
       "<!-- 8 -->\r\n",
       "<g id=\"node7\" class=\"node\"><title>8</title>\r\n",
       "<polygon fill=\"none\" stroke=\"black\" points=\"294.5,-53 203.5,-53 203.5,-0 294.5,-0 294.5,-53\"/>\r\n",
       "<text text-anchor=\"start\" x=\"222.5\" y=\"-37.8\" font-family=\"Times New Roman,serif\" font-size=\"14.00\">gini = 0.0</text>\r\n",
       "<text text-anchor=\"start\" x=\"215\" y=\"-22.8\" font-family=\"Times New Roman,serif\" font-size=\"14.00\">samples = 7</text>\r\n",
       "<text text-anchor=\"start\" x=\"211.5\" y=\"-7.8\" font-family=\"Times New Roman,serif\" font-size=\"14.00\">value = [0, 7]</text>\r\n",
       "</g>\r\n",
       "<!-- 6&#45;&gt;8 -->\r\n",
       "<g id=\"edge6\" class=\"edge\"><title>6&#45;&gt;8</title>\r\n",
       "<path fill=\"none\" stroke=\"black\" d=\"M212.586,-88.9485C217.736,-80.2579 223.305,-70.8608 228.501,-62.0917\"/>\r\n",
       "<polygon fill=\"black\" stroke=\"black\" points=\"231.662,-63.624 233.749,-53.2367 225.64,-60.0553 231.662,-63.624\"/>\r\n",
       "</g>\r\n",
       "</g>\r\n",
       "</svg>\r\n"
      ],
      "text/plain": [
       "<graphviz.files.Source at 0x21f9c568550>"
      ]
     },
     "execution_count": 29,
     "metadata": {},
     "output_type": "execute_result"
    }
   ],
   "source": [
    "graphviz.Source(export_graphviz(m_tree, out_file = None, feature_names = list(X), special_characters=True))"
   ]
  },
  {
   "cell_type": "markdown",
   "metadata": {},
   "source": [
    "What does the confusion matrix look like?"
   ]
  },
  {
   "cell_type": "code",
   "execution_count": 30,
   "metadata": {
    "collapsed": false
   },
   "outputs": [
    {
     "data": {
      "image/png": "[encoded data removed]",
      "text/plain": [
       "<matplotlib.figure.Figure at 0x21f9c47fba8>"
      ]
     },
     "metadata": {},
     "output_type": "display_data"
    }
   ],
   "source": [
    "yhat_tree_test = m_tree.predict(X=X_test)\n",
    "confusion_matrix_plot(y_test, yhat_tree_test)"
   ]
  },
  {
   "cell_type": "markdown",
   "metadata": {},
   "source": [
    "Note that sklearn uses an [optimized CART algorithm](http://scikit-learn.org/stable/modules/tree.html#tree-algorithms-id3-c4-5-c5-0-and-cart) for making trees using either the Gini or Cross-Entropy as measures of impurity."
   ]
  },
  {
   "cell_type": "markdown",
   "metadata": {},
   "source": [
    "# Ensembles"
   ]
  },
  {
   "cell_type": "markdown",
   "metadata": {},
   "source": [
    "## Random Forests"
   ]
  },
  {
   "cell_type": "code",
   "execution_count": 31,
   "metadata": {
    "collapsed": true
   },
   "outputs": [],
   "source": [
    "from sklearn.ensemble import RandomForestClassifier"
   ]
  },
  {
   "cell_type": "markdown",
   "metadata": {},
   "source": [
    "If one tree doesn't preform well enough, one can use multiple. Each tree will have a vote. Train a random forest classifier with 5 trees and max 5 nodes in each."
   ]
  },
  {
   "cell_type": "code",
   "execution_count": 32,
   "metadata": {
    "collapsed": false
   },
   "outputs": [
    {
     "data": {
      "text/plain": [
       "RandomForestClassifier(bootstrap=True, class_weight=None, criterion='gini',\n",
       "            max_depth=None, max_features='auto', max_leaf_nodes=5,\n",
       "            min_impurity_decrease=0.0, min_impurity_split=None,\n",
       "            min_samples_leaf=1, min_samples_split=2,\n",
       "            min_weight_fraction_leaf=0.0, n_estimators=5, n_jobs=1,\n",
       "            oob_score=False, random_state=2017, verbose=0,\n",
       "            warm_start=False)"
      ]
     },
     "execution_count": 32,
     "metadata": {},
     "output_type": "execute_result"
    }
   ],
   "source": [
    "m_rf = RandomForestClassifier(n_estimators = 5, max_leaf_nodes = 5, random_state = 2017)\n",
    "m_rf.fit(X=X_train, y=y_train)"
   ]
  },
  {
   "cell_type": "markdown",
   "metadata": {},
   "source": [
    "What does the confusion matrix look like?"
   ]
  },
  {
   "cell_type": "code",
   "execution_count": 33,
   "metadata": {
    "collapsed": false
   },
   "outputs": [
    {
     "data": {
      "image/png": "[encoded data removed]",
      "text/plain": [
       "<matplotlib.figure.Figure at 0x21f9c5419b0>"
      ]
     },
     "metadata": {},
     "output_type": "display_data"
    }
   ],
   "source": [
    "yhat_rf_test = m_rf.predict(X=X_test)\n",
    "confusion_matrix_plot(y_test, yhat_rf_test)"
   ]
  },
  {
   "cell_type": "markdown",
   "metadata": {},
   "source": [
    "What are the most important features for the model?"
   ]
  },
  {
   "cell_type": "code",
   "execution_count": 34,
   "metadata": {
    "collapsed": false
   },
   "outputs": [
    {
     "data": {
      "text/plain": [
       "[('perimeter_worst', 0.39522096666712336),\n",
       " ('area_worst', 0.18398290637597497),\n",
       " ('concave points_worst', 0.17068808993724177),\n",
       " ('concavity_mean', 0.1602839435643284),\n",
       " ('smoothness_worst', 0.013024901429437356),\n",
       " ('concavity_se', 0.012754987399105782),\n",
       " ('texture_mean', 0.012362788588705462),\n",
       " ('texture_worst', 0.01071746173211675),\n",
       " ('concavity_worst', 0.010483207889727765),\n",
       " ('concave points_mean', 0.010360649919548092),\n",
       " ('fractal_dimension_se', 0.0096965056939360486),\n",
       " ('perimeter_se', 0.006578776962569555),\n",
       " ('texture_se', 0.0038448138401846687),\n",
       " ('area_mean', 0.0),\n",
       " ('area_se', 0.0),\n",
       " ('compactness_mean', 0.0),\n",
       " ('compactness_se', 0.0),\n",
       " ('compactness_worst', 0.0),\n",
       " ('concave points_se', 0.0),\n",
       " ('fractal_dimension_mean', 0.0),\n",
       " ('fractal_dimension_worst', 0.0),\n",
       " ('perimeter_mean', 0.0),\n",
       " ('radius_mean', 0.0),\n",
       " ('radius_se', 0.0),\n",
       " ('radius_worst', 0.0),\n",
       " ('smoothness_mean', 0.0),\n",
       " ('smoothness_se', 0.0),\n",
       " ('symmetry_mean', 0.0),\n",
       " ('symmetry_se', 0.0),\n",
       " ('symmetry_worst', 0.0)]"
      ]
     },
     "execution_count": 34,
     "metadata": {},
     "output_type": "execute_result"
    }
   ],
   "source": [
    "sorted(list(zip(X.columns, m_rf.feature_importances_)), key=lambda x: x[1], reverse=True)"
   ]
  },
  {
   "cell_type": "markdown",
   "metadata": {},
   "source": [
    "## Gradient Tree Boosting"
   ]
  },
  {
   "cell_type": "markdown",
   "metadata": {},
   "source": [
    "Now do the same with gradient boosting."
   ]
  },
  {
   "cell_type": "code",
   "execution_count": 35,
   "metadata": {
    "collapsed": false
   },
   "outputs": [],
   "source": [
    "from sklearn.ensemble import GradientBoostingClassifier"
   ]
  },
  {
   "cell_type": "code",
   "execution_count": 36,
   "metadata": {
    "collapsed": false
   },
   "outputs": [
    {
     "data": {
      "image/png": "[encoded data removed]",
      "text/plain": [
       "<matplotlib.figure.Figure at 0x21f9a56d4e0>"
      ]
     },
     "metadata": {},
     "output_type": "display_data"
    }
   ],
   "source": [
    "m_gb = GradientBoostingClassifier(n_estimators = 5, max_leaf_nodes = 5, random_state = 2017)\n",
    "m_gb.fit(X=X_train, y=y_train)\n",
    "yhat_gb_test = m_gb.predict(X=X_test)\n",
    "confusion_matrix_plot(y_test, yhat_gb_test)"
   ]
  },
  {
   "cell_type": "markdown",
   "metadata": {},
   "source": [
    "# Neural network"
   ]
  },
  {
   "cell_type": "code",
   "execution_count": 37,
   "metadata": {
    "collapsed": true
   },
   "outputs": [],
   "source": [
    "from sklearn.neural_network import MLPClassifier"
   ]
  },
  {
   "cell_type": "markdown",
   "metadata": {},
   "source": [
    "Fit a 2-layer - with 5 nodes in first and 2 nodes is second layer - perceptron with relu as the activation function for hidden layers."
   ]
  },
  {
   "cell_type": "code",
   "execution_count": 38,
   "metadata": {
    "collapsed": false
   },
   "outputs": [
    {
     "data": {
      "text/plain": [
       "MLPClassifier(activation='relu', alpha=0.0001, batch_size='auto', beta_1=0.9,\n",
       "       beta_2=0.999, early_stopping=False, epsilon=1e-08,\n",
       "       hidden_layer_sizes=(5, 2), learning_rate='constant',\n",
       "       learning_rate_init=0.001, max_iter=10000, momentum=0.9,\n",
       "       nesterovs_momentum=True, power_t=0.5, random_state=2017,\n",
       "       shuffle=True, solver='adam', tol=0.0001, validation_fraction=0.1,\n",
       "       verbose=False, warm_start=False)"
      ]
     },
     "execution_count": 38,
     "metadata": {},
     "output_type": "execute_result"
    }
   ],
   "source": [
    "m_nn = MLPClassifier(hidden_layer_sizes = (5,2), max_iter = 10000, random_state = 2017)\n",
    "m_nn.fit(X=X_train, y=y_train)"
   ]
  },
  {
   "cell_type": "markdown",
   "metadata": {},
   "source": [
    "Display the weights?"
   ]
  },
  {
   "cell_type": "code",
   "execution_count": 39,
   "metadata": {
    "collapsed": false
   },
   "outputs": [
    {
     "data": {
      "text/plain": [
       "[array([[-0.62305694,  0.18702781, -0.03007814, -0.35326093,  0.81121046],\n",
       "        [-1.17077502, -0.33101946, -1.04581402, -1.22376589,  0.50613031],\n",
       "        [-1.1215261 ,  0.07417834, -0.5417504 , -0.76129094,  0.70785691],\n",
       "        [ 0.06365928,  0.33144483,  0.00580989, -0.15168009,  0.43623134],\n",
       "        [ 0.31608891, -0.19344785,  0.44896185,  0.37785653,  0.05849526],\n",
       "        [-0.02825881, -0.05715701, -0.42490911,  0.0346466 ,  0.51619005],\n",
       "        [-1.27323619, -0.37720705, -0.35014778, -0.67471299,  0.75726949],\n",
       "        [ 0.7455045 , -0.10705589,  0.02635346,  0.50296689,  0.20395074],\n",
       "        [-0.23417388,  0.30814178, -0.44878991, -0.51779799,  0.13216772],\n",
       "        [-0.78431089,  0.10320806, -0.51543863, -0.53863548,  0.90433827],\n",
       "        [ 0.46192435,  0.33451561,  0.45701662,  0.3512143 ,  0.01788091],\n",
       "        [-0.65330419, -0.14780172, -0.39516298,  0.04940447,  0.6143465 ],\n",
       "        [ 0.69810857, -0.22914938,  0.91357555,  0.60202876, -0.03025319],\n",
       "        [ 0.37736353, -0.29514316,  0.98969856,  0.97801392,  0.21288345],\n",
       "        [-0.28241113, -0.01794883,  0.22967532, -0.1922222 ,  0.39760254],\n",
       "        [-0.11701064,  0.2954527 ,  0.27042427,  0.0955437 ,  0.17687819],\n",
       "        [-1.30097839,  0.32928302, -0.7463862 , -1.06891913,  0.86060368],\n",
       "        [ 0.03307902,  0.35843526, -0.3265549 , -0.46236587,  0.60375769],\n",
       "        [ 0.45432806, -0.15553801,  0.09317786,  0.17388658,  0.6269522 ],\n",
       "        [-1.12823395,  0.07148047, -0.49186632, -0.66522357,  0.93297541],\n",
       "        [-0.07561874, -0.43052057, -0.12613217, -0.07511123,  0.79882526],\n",
       "        [ 0.55190032,  0.22085035,  0.48855473,  0.59668832,  0.57751948],\n",
       "        [ 0.27109053, -0.22872062, -0.11878331,  0.17054995,  0.82128309],\n",
       "        [-0.25534105,  0.35029195, -0.30343396,  0.28524778,  0.75882674],\n",
       "        [ 0.57506334, -0.12685996,  0.15687889,  0.75130277,  0.70025913],\n",
       "        [ 0.25071038, -0.25868179, -0.02750904,  0.40359462,  0.06866834],\n",
       "        [-0.19785145,  0.10731292, -0.36080272, -0.35284695,  0.73956862],\n",
       "        [-0.11814204, -0.42938494, -0.08300866, -0.01020254,  0.80345134],\n",
       "        [ 0.39216515,  0.34274495,  0.16063989,  0.55742006,  0.2533532 ],\n",
       "        [-0.69575602, -0.38858193, -0.47055053, -0.7090076 ,  0.45027292]]),\n",
       " array([[ -1.10892360e+00,   3.70841515e-20],\n",
       "        [ -3.19833615e-01,   4.81258646e-03],\n",
       "        [ -2.00313986e+00,  -3.53266139e-12],\n",
       "        [ -1.76614776e+00,   9.17882700e-10],\n",
       "        [  1.63014905e+00,  -2.08425425e-03]]),\n",
       " array([[ 1.1509571 ],\n",
       "        [-0.01824412]])]"
      ]
     },
     "execution_count": 39,
     "metadata": {},
     "output_type": "execute_result"
    }
   ],
   "source": [
    "m_nn.coefs_"
   ]
  },
  {
   "cell_type": "markdown",
   "metadata": {},
   "source": [
    "Show the confusion matrix for the test set."
   ]
  },
  {
   "cell_type": "code",
   "execution_count": 40,
   "metadata": {
    "collapsed": false
   },
   "outputs": [
    {
     "data": {
      "image/png": "[encoded data removed]",
      "text/plain": [
       "<matplotlib.figure.Figure at 0x21f9c9a3908>"
      ]
     },
     "metadata": {},
     "output_type": "display_data"
    }
   ],
   "source": [
    "yhat_nn_test = m_nn.predict(X=X_test)\n",
    "confusion_matrix_plot(y_test, yhat_nn_test)"
   ]
  },
  {
   "cell_type": "markdown",
   "metadata": {},
   "source": [
    "# Support Vector Machines"
   ]
  },
  {
   "cell_type": "code",
   "execution_count": 41,
   "metadata": {
    "collapsed": true
   },
   "outputs": [],
   "source": [
    "from sklearn.svm import SVC"
   ]
  },
  {
   "cell_type": "markdown",
   "metadata": {},
   "source": [
    "Train the model and show the confusion matrix based on test set."
   ]
  },
  {
   "cell_type": "code",
   "execution_count": 42,
   "metadata": {
    "collapsed": false
   },
   "outputs": [
    {
     "data": {
      "image/png": "[encoded data removed]",
      "text/plain": [
       "<matplotlib.figure.Figure at 0x21f9c8ef6a0>"
      ]
     },
     "metadata": {},
     "output_type": "display_data"
    }
   ],
   "source": [
    "m_svm = SVC()\n",
    "m_svm.fit(X=X_train, y=y_train)\n",
    "yhat_svm_test = m_svm.predict(X=X_test)\n",
    "confusion_matrix_plot(y_test, yhat_svm_test)"
   ]
  },
  {
   "cell_type": "code",
   "execution_count": null,
   "metadata": {
    "collapsed": true
   },
   "outputs": [],
   "source": []
  }
 ],
 "metadata": {
  "kernelspec": {
   "display_name": "Python 3",
   "language": "python",
   "name": "python3"
  },
  "language_info": {
   "codemirror_mode": {
    "name": "ipython",
    "version": 3
   },
   "file_extension": ".py",
   "mimetype": "text/x-python",
   "name": "python",
   "nbconvert_exporter": "python",
   "pygments_lexer": "ipython3",
   "version": "3.5.2"
  }
 },
 "nbformat": 4,
 "nbformat_minor": 0
}
